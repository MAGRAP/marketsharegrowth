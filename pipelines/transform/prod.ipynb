{
 "cells": [
  {
   "cell_type": "code",
   "execution_count": 4,
   "metadata": {},
   "outputs": [],
   "source": [
    "import yaml\n",
    "import pyodbc\n",
    "from market_growth_analysis.etl.stagging import *\n",
    "\n",
    "# Load the YAML file\n",
    "with open('../../conf/local.yml', 'r') as f:\n",
    "    config = yaml.safe_load(f)\n"
   ]
  },
  {
   "cell_type": "code",
   "execution_count": 5,
   "metadata": {},
   "outputs": [],
   "source": [
    "stagging_db_conn = config['stagging_db']"
   ]
  },
  {
   "cell_type": "code",
   "execution_count": 6,
   "metadata": {},
   "outputs": [],
   "source": [
    "# Extract the connection information\n",
    "driver = stagging_db_conn['driver']\n",
    "server = stagging_db_conn['server']\n",
    "database = stagging_db_conn['database']\n",
    "trusted_connection = stagging_db_conn['trusted_connection']\n",
    "\n",
    "# Create the connection string\n",
    "connection_string = f\"Driver={{{driver}}};Server={server};Database={database};Trusted_Connection={trusted_connection};\"\n",
    "connection = pyodbc.connect(connection_string)\n",
    "\n",
    "# Create a cursor object\n",
    "cursor = connection.cursor()"
   ]
  },
  {
   "cell_type": "code",
   "execution_count": 7,
   "metadata": {},
   "outputs": [],
   "source": [
    "# CSV files to load\n",
    "csv_files = [\n",
    "    \"balance-sheet.csv\",\n",
    "    \"cash-flow-statement.csv\",\n",
    "    \"financial-ratios.csv\",\n",
    "    \"income-statement.csv\",\n",
    "    \"prices.csv\"\n",
    "]\n"
   ]
  },
  {
   "cell_type": "code",
   "execution_count": 8,
   "metadata": {},
   "outputs": [],
   "source": [
    "create_stg_balance_sheet_statement(connection, 'balance-sheet')\n",
    "create_stg_cash_flow_statement(connection, 'cash-flow-statement')\n",
    "create_stg_financial_ratios(connection, 'financial-ratios')\n",
    "create_stg_income_statement(connection, 'income-statement')\n",
    "create_stg_prcies(connection, 'prcies')"
   ]
  },
  {
   "cell_type": "code",
   "execution_count": 18,
   "metadata": {},
   "outputs": [],
   "source": [
    "# Drop existing tables\n",
    "for csv_file in csv_files:\n",
    "    table_name = csv_file.replace(\".csv\", \"\")\n",
    "    drop_table_query = f\"IF OBJECT_ID('{table_name}', 'U') IS NOT NULL DROP TABLE [{table_name}]\"\n",
    "    cursor.execute(drop_table_query)\n",
    "    connection.commit()\n"
   ]
  },
  {
   "cell_type": "code",
   "execution_count": 40,
   "metadata": {},
   "outputs": [
    {
     "ename": "ProgrammingError",
     "evalue": "('42000', \"[42000] [Microsoft][ODBC SQL Server Driver][SQL Server]Sintaxis incorrecta cerca de 'GO'. (102) (SQLExecDirectW); [42000] [Microsoft][ODBC SQL Server Driver][SQL Server]Sintaxis incorrecta cerca de 'GO'. (102)\")",
     "output_type": "error",
     "traceback": [
      "\u001b[1;31m---------------------------------------------------------------------------\u001b[0m",
      "\u001b[1;31mProgrammingError\u001b[0m                          Traceback (most recent call last)",
      "\u001b[1;32m~\\AppData\\Local\\Temp/ipykernel_14776/238629827.py\u001b[0m in \u001b[0;36m<module>\u001b[1;34m\u001b[0m\n\u001b[0;32m     22\u001b[0m \u001b[1;33m\u001b[0m\u001b[0m\n\u001b[0;32m     23\u001b[0m     \u001b[1;31m# Execute the BULK INSERT statement\u001b[0m\u001b[1;33m\u001b[0m\u001b[1;33m\u001b[0m\u001b[0m\n\u001b[1;32m---> 24\u001b[1;33m     \u001b[0mcursor\u001b[0m\u001b[1;33m.\u001b[0m\u001b[0mexecute\u001b[0m\u001b[1;33m(\u001b[0m\u001b[0mbulk_insert_query\u001b[0m\u001b[1;33m)\u001b[0m\u001b[1;33m\u001b[0m\u001b[1;33m\u001b[0m\u001b[0m\n\u001b[0m\u001b[0;32m     25\u001b[0m     \u001b[0mconnection\u001b[0m\u001b[1;33m.\u001b[0m\u001b[0mcommit\u001b[0m\u001b[1;33m(\u001b[0m\u001b[1;33m)\u001b[0m\u001b[1;33m\u001b[0m\u001b[1;33m\u001b[0m\u001b[0m\n\u001b[0;32m     26\u001b[0m \u001b[1;33m\u001b[0m\u001b[0m\n",
      "\u001b[1;31mProgrammingError\u001b[0m: ('42000', \"[42000] [Microsoft][ODBC SQL Server Driver][SQL Server]Sintaxis incorrecta cerca de 'GO'. (102) (SQLExecDirectW); [42000] [Microsoft][ODBC SQL Server Driver][SQL Server]Sintaxis incorrecta cerca de 'GO'. (102)\")"
     ]
    }
   ],
   "source": [
    "# Load CSV files into the database\n",
    "for csv_file in csv_files:\n",
    "    table_name = csv_file.replace(\".csv\", \"\")\n",
    "    file_path = r\"../../data/raw_01/\" + csv_file  # Use raw string (r) to preserve backslashes\n",
    "\n",
    "    # Prepare the BULK INSERT statement\n",
    "    bulk_insert_query = f\"\"\"\n",
    "\n",
    "        -- truncate the table first\n",
    "        TRUNCATE TABLE dbo.['{table_name}'];\n",
    "        GO\n",
    "\n",
    "        -- import the file\n",
    "        BULK INSERT dbo.['{table_name}']\n",
    "        FROM '{file_path}'\n",
    "        WITH (\n",
    "            FORMAT = 'CSV',\n",
    "            FIRSTROW = 2 \n",
    "        );\n",
    "        GO\n",
    "    \"\"\"\n",
    "\n",
    "    # Execute the BULK INSERT statement\n",
    "    cursor.execute(bulk_insert_query)\n",
    "    connection.commit()\n",
    "\n",
    "# Close the cursor and connection\n",
    "cursor.close()\n",
    "connection.close()\n",
    "\n"
   ]
  }
 ],
 "metadata": {
  "kernelspec": {
   "display_name": "Python 3",
   "language": "python",
   "name": "python3"
  },
  "language_info": {
   "codemirror_mode": {
    "name": "ipython",
    "version": 3
   },
   "file_extension": ".py",
   "mimetype": "text/x-python",
   "name": "python",
   "nbconvert_exporter": "python",
   "pygments_lexer": "ipython3",
   "version": "3.9.7"
  },
  "orig_nbformat": 4
 },
 "nbformat": 4,
 "nbformat_minor": 2
}
