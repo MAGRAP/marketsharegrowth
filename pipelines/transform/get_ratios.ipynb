{
 "cells": [
  {
   "cell_type": "code",
   "execution_count": 1,
   "metadata": {},
   "outputs": [],
   "source": [
    "import yaml\n",
    "import pyodbc\n",
    "from market_growth_analysis.etl.stagging import *\n",
    "import pandas as pd"
   ]
  },
  {
   "cell_type": "code",
   "execution_count": 3,
   "metadata": {},
   "outputs": [],
   "source": [
    "finantial_sheets = pd.read_csv(\"../../data/intermediate_02/financial-sheets.csv\", index_col=0)\n",
    "prices_df = pd.read_csv(\"../../data/raw_01/prices.csv\", index_col=0)\n"
   ]
  },
  {
   "cell_type": "code",
   "execution_count": 19,
   "metadata": {},
   "outputs": [],
   "source": [
    "# Convert 'Date' columns to datetime type\n",
    "finantial_sheets['Date'] = pd.to_datetime(finantial_sheets['Date'])\n",
    "prices_df['Date'] = pd.to_datetime(prices_df['Date'])\n",
    "\n",
    "# Extract the year from 'Date' columns\n",
    "finantial_sheets['Year'] = finantial_sheets['Date'].dt.year\n",
    "prices_df['Year'] = prices_df['Date'].dt.year\n",
    "\n",
    "# Perform the join based on 'Year' and 'ticker' columns\n",
    "financial_and_prices = finantial_sheets.merge(prices_df, on=['Year', 'ticker'], how='inner')"
   ]
  },
  {
   "cell_type": "code",
   "execution_count": 20,
   "metadata": {},
   "outputs": [],
   "source": [
    "# Drop unnecessary columns\n",
    "financial_and_prices = financial_and_prices.drop(['Date_y', 'Year'], axis=1)\n",
    "\n",
    "# Rename the 'Date_x' column if desired\n",
    "financial_and_prices = financial_and_prices.rename(columns={'Date_x': 'Date'})"
   ]
  },
  {
   "cell_type": "code",
   "execution_count": 24,
   "metadata": {},
   "outputs": [],
   "source": [
    "financial_and_prices['Enterprise Value (EV)'] = (financial_and_prices['Shares Outstanding'] * financial_and_prices['Close']) + financial_and_prices['Total Liabilities'] - financial_and_prices['Cash On Hand']\n",
    "financial_and_prices['EV / Revenue'] = financial_and_prices['Enterprise Value (EV)'] / financial_and_prices['Revenue']\n",
    "financial_and_prices['EV / EBITDA'] = financial_and_prices['Enterprise Value (EV)'] / financial_and_prices['EBITDA']\n",
    "financial_and_prices['EV / EBIT'] = financial_and_prices['Enterprise Value (EV)'] / financial_and_prices['EBIT']\n",
    "financial_and_prices['EV / Invested Capital'] = financial_and_prices['Enterprise Value (EV)'] / financial_and_prices['Long-Term Investments']\n",
    "financial_and_prices['Free Cash Flow (FCF)'] = financial_and_prices['Cash Flow From Operating Activities'] + financial_and_prices['Cash Flow From Investing Activities']\n",
    "financial_and_prices['EV / Free Cash Flow'] = financial_and_prices['Enterprise Value (EV)'] / financial_and_prices['Free Cash Flow (FCF)']\n",
    "financial_and_prices['EV / FCF'] = financial_and_prices['Enterprise Value (EV)'] / financial_and_prices['Free Cash Flow (FCF)']\n",
    "financial_and_prices['P/E'] = financial_and_prices['Close'] / financial_and_prices['EPS - Earnings Per Share']\n",
    "financial_and_prices['P/S'] = (financial_and_prices['Shares Outstanding'] * financial_and_prices['Close']) / financial_and_prices['Revenue']\n",
    "# financial_and_prices['P/B'] = financial_and_prices['Close'] / financial_and_prices['Book Value Per Share']\n",
    "financial_and_prices['P/CF'] = (financial_and_prices['Shares Outstanding'] * financial_and_prices['Close']) / financial_and_prices['Cash Flow From Operating Activities']\n"
   ]
  }
 ],
 "metadata": {
  "kernelspec": {
   "display_name": "Python 3",
   "language": "python",
   "name": "python3"
  },
  "language_info": {
   "codemirror_mode": {
    "name": "ipython",
    "version": 3
   },
   "file_extension": ".py",
   "mimetype": "text/x-python",
   "name": "python",
   "nbconvert_exporter": "python",
   "pygments_lexer": "ipython3",
   "version": "3.9.7"
  },
  "orig_nbformat": 4
 },
 "nbformat": 4,
 "nbformat_minor": 2
}
