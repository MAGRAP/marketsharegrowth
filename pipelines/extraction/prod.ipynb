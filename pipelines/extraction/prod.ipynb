{
 "cells": [
  {
   "cell_type": "code",
   "execution_count": 1,
   "metadata": {},
   "outputs": [],
   "source": [
    "from market_growth_analysis.web_scraping import process_sector, scrape_company_data\n",
    "import concurrent\n",
    "import tqdm\n",
    "\n",
    "from bs4 import BeautifulSoup\n",
    "import requests"
   ]
  },
  {
   "cell_type": "code",
   "execution_count": 2,
   "metadata": {},
   "outputs": [
    {
     "name": "stdout",
     "output_type": "stream",
     "text": [
      "Retrieving income statement\n"
     ]
    },
    {
     "name": "stderr",
     "output_type": "stream",
     "text": [
      "Sectors:   0%|          | 0/17 [00:00<?, ?it/s]\n"
     ]
    },
    {
     "ename": "TypeError",
     "evalue": "process_sector() takes 3 positional arguments but 4 were given",
     "output_type": "error",
     "traceback": [
      "\u001b[1;31m---------------------------------------------------------------------------\u001b[0m",
      "\u001b[1;31mTypeError\u001b[0m                                 Traceback (most recent call last)",
      "\u001b[1;32m~\\AppData\\Local\\Temp/ipykernel_4888/676100725.py\u001b[0m in \u001b[0;36m<module>\u001b[1;34m\u001b[0m\n\u001b[0;32m     15\u001b[0m     \u001b[0mfinancial_url\u001b[0m \u001b[1;33m=\u001b[0m \u001b[1;34m\"income-statement\"\u001b[0m\u001b[1;33m\u001b[0m\u001b[1;33m\u001b[0m\u001b[0m\n\u001b[0;32m     16\u001b[0m     \u001b[1;32mfor\u001b[0m \u001b[0msector\u001b[0m \u001b[1;32min\u001b[0m \u001b[0mtqdm\u001b[0m\u001b[1;33m.\u001b[0m\u001b[0mtqdm\u001b[0m\u001b[1;33m(\u001b[0m\u001b[0msector_dict\u001b[0m\u001b[1;33m,\u001b[0m \u001b[0mdesc\u001b[0m\u001b[1;33m=\u001b[0m\u001b[1;34m\"Sectors\"\u001b[0m\u001b[1;33m)\u001b[0m\u001b[1;33m:\u001b[0m\u001b[1;33m\u001b[0m\u001b[1;33m\u001b[0m\u001b[0m\n\u001b[1;32m---> 17\u001b[1;33m         \u001b[0mprocess_sector\u001b[0m\u001b[1;33m(\u001b[0m\u001b[0msector\u001b[0m\u001b[1;33m,\u001b[0m \u001b[0msector_dict\u001b[0m\u001b[1;33m,\u001b[0m \u001b[1;34mf\"{financial_url}?freq=A\"\u001b[0m\u001b[1;33m,\u001b[0m \u001b[0mexecutor\u001b[0m\u001b[1;33m)\u001b[0m\u001b[1;33m\u001b[0m\u001b[1;33m\u001b[0m\u001b[0m\n\u001b[0m\u001b[0;32m     18\u001b[0m \u001b[1;33m\u001b[0m\u001b[0m\n\u001b[0;32m     19\u001b[0m     \u001b[0mprint\u001b[0m\u001b[1;33m(\u001b[0m\u001b[1;34m\"Retrieving cash flow statements\"\u001b[0m\u001b[1;33m)\u001b[0m\u001b[1;33m\u001b[0m\u001b[1;33m\u001b[0m\u001b[0m\n",
      "\u001b[1;31mTypeError\u001b[0m: process_sector() takes 3 positional arguments but 4 were given"
     ]
    }
   ],
   "source": [
    "URL = \"https://www.macrotrends.net/stocks/research\"\n",
    "page = requests.get(URL)\n",
    "\n",
    "\n",
    "soup = BeautifulSoup(page.content, \"html.parser\")\n",
    "\n",
    "results = soup.find_all(\"a\", href= lambda text: \"/stocks/sector/\" in text.lower())\n",
    "sector_dict = dict()\n",
    "\n",
    "for result in results:\n",
    "    sector_dict[result.text] = (\"\".join((\"https://www.macrotrends.net\", result[\"href\"]))).strip()\n",
    "\n",
    "with concurrent.futures.ThreadPoolExecutor() as executor:\n",
    "    print(\"Retrieving income statement\")\n",
    "    financial_url = \"income-statement\"\n",
    "    for sector in tqdm.tqdm(sector_dict, desc=\"Sectors\"):\n",
    "        process_sector(sector, sector_dict, f\"{financial_url}?freq=A\", executor)\n",
    "\n",
    "    print(\"Retrieving cash flow statements\")\n",
    "    financial_url = \"cash-flow-statement\"\n",
    "    for sector in tqdm.tqdm(sector_dict, desc=\"Sectors\"):\n",
    "        process_sector(sector, sector_dict, f\"{financial_url}?freq=A\", executor)\n",
    "\n",
    "    print(\"Retrieving balance sheet\")\n",
    "    financial_url = \"balance-sheet\"\n",
    "    for sector in tqdm.tqdm(sector_dict, desc=\"Sectors\"):\n",
    "        process_sector(sector, sector_dict, f\"{financial_url}?freq=A\", executor)"
   ]
  }
 ],
 "metadata": {
  "kernelspec": {
   "display_name": "Python 3",
   "language": "python",
   "name": "python3"
  },
  "language_info": {
   "codemirror_mode": {
    "name": "ipython",
    "version": 3
   },
   "file_extension": ".py",
   "mimetype": "text/x-python",
   "name": "python",
   "nbconvert_exporter": "python",
   "pygments_lexer": "ipython3",
   "version": "3.9.7"
  },
  "orig_nbformat": 4
 },
 "nbformat": 4,
 "nbformat_minor": 2
}
