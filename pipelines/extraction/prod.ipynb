{
 "cells": [
  {
   "cell_type": "code",
   "execution_count": 2,
   "metadata": {},
   "outputs": [
    {
     "ename": "ModuleNotFoundError",
     "evalue": "No module named 'market_growth_analysis.etl'",
     "output_type": "error",
     "traceback": [
      "\u001b[1;31m---------------------------------------------------------------------------\u001b[0m",
      "\u001b[1;31mModuleNotFoundError\u001b[0m                       Traceback (most recent call last)",
      "\u001b[1;32m~\\AppData\\Local\\Temp/ipykernel_5940/1388156395.py\u001b[0m in \u001b[0;36m<module>\u001b[1;34m\u001b[0m\n\u001b[1;32m----> 1\u001b[1;33m \u001b[1;32mfrom\u001b[0m \u001b[0mmarket_growth_analysis\u001b[0m\u001b[1;33m.\u001b[0m\u001b[0metl\u001b[0m\u001b[1;33m.\u001b[0m\u001b[0mweb_scraping\u001b[0m \u001b[1;32mimport\u001b[0m \u001b[0mscrape_company_data\u001b[0m\u001b[1;33m,\u001b[0m \u001b[0mprocess_sector\u001b[0m\u001b[1;33m,\u001b[0m \u001b[0mprocess_prices_company\u001b[0m\u001b[1;33m,\u001b[0m \u001b[0mget_sector_data\u001b[0m\u001b[1;33m,\u001b[0m \u001b[0mget_industry_data\u001b[0m\u001b[1;33m,\u001b[0m \u001b[0mparser\u001b[0m\u001b[1;33m\u001b[0m\u001b[1;33m\u001b[0m\u001b[0m\n\u001b[0m\u001b[0;32m      2\u001b[0m \u001b[1;32mimport\u001b[0m \u001b[0mconcurrent\u001b[0m\u001b[1;33m\u001b[0m\u001b[1;33m\u001b[0m\u001b[0m\n\u001b[0;32m      3\u001b[0m \u001b[1;32mimport\u001b[0m \u001b[0mtqdm\u001b[0m\u001b[1;33m\u001b[0m\u001b[1;33m\u001b[0m\u001b[0m\n\u001b[0;32m      4\u001b[0m \u001b[1;33m\u001b[0m\u001b[0m\n\u001b[0;32m      5\u001b[0m \u001b[1;32mfrom\u001b[0m \u001b[0mbs4\u001b[0m \u001b[1;32mimport\u001b[0m \u001b[0mBeautifulSoup\u001b[0m\u001b[1;33m\u001b[0m\u001b[1;33m\u001b[0m\u001b[0m\n",
      "\u001b[1;31mModuleNotFoundError\u001b[0m: No module named 'market_growth_analysis.etl'"
     ]
    }
   ],
   "source": [
    "from market_growth_analysis.etl.web_scraping import scrape_company_data, process_sector, process_prices_company, get_sector_data, get_industry_data, parser\n",
    "import concurrent\n",
    "import tqdm\n",
    "\n",
    "from bs4 import BeautifulSoup\n",
    "import requests\n",
    "\n",
    "import yfinance as yf\n",
    "import pandas as pd\n",
    "import os\n",
    "from os.path import join\n",
    "from datetime import datetime\n",
    "from pathlib import Path "
   ]
  },
  {
   "cell_type": "code",
   "execution_count": null,
   "metadata": {},
   "outputs": [],
   "source": [
    "from market_growth_analysis.etl.web_scraping import scrape_company_data"
   ]
  },
  {
   "attachments": {},
   "cell_type": "markdown",
   "metadata": {},
   "source": [
    "# Extract Financial Data\n"
   ]
  },
  {
   "cell_type": "code",
   "execution_count": null,
   "metadata": {},
   "outputs": [],
   "source": [
    "URL = \"https://www.macrotrends.net/stocks/research\"\n",
    "page = requests.get(URL)\n",
    "\n",
    "sheets = (\"income-statement\",\n",
    "          \"cash-flow-statement\",\n",
    "          \"balance-sheet\",\n",
    "          \"financial-ratios\")\n",
    "\n",
    "\n",
    "soup = BeautifulSoup(page.content, \"html.parser\")\n",
    "\n",
    "results = soup.find_all(\"a\", href= lambda text: \"/stocks/sector/\" in text.lower())\n",
    "sector_dict = dict()\n",
    "\n",
    "for result in results:\n",
    "    sector_dict[result.text] = (\"\".join((\"https://www.macrotrends.net\", result[\"href\"]))).strip()\n",
    "\n",
    "for sheet in sheets:\n",
    "    with concurrent.futures.ThreadPoolExecutor() as executor:\n",
    "        print(\"Retrieving income statement\")\n",
    "        financial_sheet = sheet\n",
    "        financial_sheet_df = pd.DataFrame()\n",
    "\n",
    "        for sector in tqdm.tqdm(sector_dict, desc=\"Sectors\"):\n",
    "            results = process_sector(sector, sector_dict, financial_sheet, executor)\n",
    "            financial_sheet_df = pd.concat([financial_sheet_df, results], ignore_index=True)\n",
    "\n",
    "        financial_sheet_df.to_csv(f'../../data/raw_01/{financial_sheet}.csv')\n",
    "    \n"
   ]
  },
  {
   "attachments": {},
   "cell_type": "markdown",
   "metadata": {},
   "source": [
    "# Extract Prices"
   ]
  },
  {
   "cell_type": "code",
   "execution_count": null,
   "metadata": {},
   "outputs": [],
   "source": [
    "path = '../../data/raw_01/income-statement.csv'\n",
    "companys = pd.read_csv(path).sort_values(by='ticker')['ticker'].dropna().unique()"
   ]
  },
  {
   "cell_type": "code",
   "execution_count": null,
   "metadata": {},
   "outputs": [],
   "source": [
    "companys"
   ]
  },
  {
   "cell_type": "code",
   "execution_count": null,
   "metadata": {},
   "outputs": [],
   "source": [
    "import concurrent.futures\n",
    "from tqdm import tqdm\n",
    "import logging\n",
    "\n",
    "# Create a ThreadPoolExecutor\n",
    "executor = concurrent.futures.ThreadPoolExecutor()\n",
    "\n",
    "# List to store the future objects\n",
    "futures = []\n",
    "\n",
    "prices = pd.DataFrame()\n",
    "\n",
    "# Iterate over the companies and submit the tasks to the executor\n",
    "for company in companys:\n",
    "    future = executor.submit(process_prices_company, company)\n",
    "    futures.append(future)\n",
    "\n",
    "# Use tqdm to track the progress of the loop\n",
    "results = []\n",
    "with tqdm(total=len(companys)) as pbar:\n",
    "    for future in concurrent.futures.as_completed(futures):\n",
    "        result = future.result()\n",
    "        if result is not None:\n",
    "            results.append(result)\n",
    "        pbar.update(1)\n",
    "\n",
    "# Combine the results\n",
    "prices = pd.concat(results, ignore_index=True)\n"
   ]
  },
  {
   "cell_type": "code",
   "execution_count": null,
   "metadata": {},
   "outputs": [],
   "source": [
    "# Export the dataframe\n",
    "filepath = Path(f'../../data/raw_01/prices.csv')  \n",
    "filepath.parent.mkdir(parents=True, exist_ok=True)  \n",
    "prices.to_csv(filepath)"
   ]
  }
 ],
 "metadata": {
  "kernelspec": {
   "display_name": "Python 3",
   "language": "python",
   "name": "python3"
  },
  "language_info": {
   "codemirror_mode": {
    "name": "ipython",
    "version": 3
   },
   "file_extension": ".py",
   "mimetype": "text/x-python",
   "name": "python",
   "nbconvert_exporter": "python",
   "pygments_lexer": "ipython3",
   "version": "3.9.7"
  },
  "orig_nbformat": 4
 },
 "nbformat": 4,
 "nbformat_minor": 2
}
