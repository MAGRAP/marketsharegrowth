{
 "cells": [
  {
   "cell_type": "code",
   "execution_count": 9,
   "metadata": {},
   "outputs": [],
   "source": [
    "import yaml\n",
    "import pyodbc\n",
    "from market_growth_analysis.etl.stagging import *\n",
    "import pandas as pd"
   ]
  },
  {
   "cell_type": "code",
   "execution_count": 10,
   "metadata": {},
   "outputs": [],
   "source": [
    "finantial_sheets = pd.read_csv(\"../../data/intermediate_02/financial-sheets.csv\", index_col=0)\n",
    "prices_df = pd.read_csv(\"../../data/raw_01/prices.csv\", index_col=0)\n"
   ]
  },
  {
   "cell_type": "code",
   "execution_count": 11,
   "metadata": {},
   "outputs": [],
   "source": [
    "# Convert 'Date' columns to datetime type\n",
    "finantial_sheets['Date'] = pd.to_datetime(finantial_sheets['Date'])\n",
    "prices_df['Date'] = pd.to_datetime(prices_df['Date'])\n",
    "\n",
    "# Extract the year from 'Date' columns\n",
    "finantial_sheets['Year'] = finantial_sheets['Date'].dt.year\n",
    "prices_df['Year'] = prices_df['Date'].dt.year\n",
    "\n",
    "# Perform the join based on 'Year' and 'ticker' columns\n",
    "financial_and_prices = finantial_sheets.merge(prices_df, on=['Year', 'ticker'], how='inner')"
   ]
  },
  {
   "cell_type": "code",
   "execution_count": 12,
   "metadata": {},
   "outputs": [],
   "source": [
    "# Drop unnecessary columns\n",
    "financial_and_prices = financial_and_prices.drop(['Date_y', 'Year'], axis=1)\n",
    "\n",
    "# Rename the 'Date_x' column if desired\n",
    "financial_and_prices = financial_and_prices.rename(columns={'Date_x': 'Date'})"
   ]
  },
  {
   "cell_type": "code",
   "execution_count": 13,
   "metadata": {},
   "outputs": [],
   "source": [
    "financial_and_prices['Enterprise Value (EV)'] = (financial_and_prices['Shares Outstanding'] * financial_and_prices['Close']) + financial_and_prices['Total Liabilities'] - financial_and_prices['Cash On Hand']\n",
    "financial_and_prices['EV / Revenue'] = financial_and_prices['Enterprise Value (EV)'] / financial_and_prices['Revenue']\n",
    "financial_and_prices['EV / EBITDA'] = financial_and_prices['Enterprise Value (EV)'] / financial_and_prices['EBITDA']\n",
    "financial_and_prices['EV / EBIT'] = financial_and_prices['Enterprise Value (EV)'] / financial_and_prices['EBIT']\n",
    "financial_and_prices['EV / Invested Capital'] = financial_and_prices['Enterprise Value (EV)'] / financial_and_prices['Long-Term Investments']\n",
    "financial_and_prices['Free Cash Flow (FCF)'] = financial_and_prices['Cash Flow From Operating Activities'] + financial_and_prices['Cash Flow From Investing Activities']\n",
    "financial_and_prices['EV / Free Cash Flow'] = financial_and_prices['Enterprise Value (EV)'] / financial_and_prices['Free Cash Flow (FCF)']\n",
    "financial_and_prices['EV / FCF'] = financial_and_prices['Enterprise Value (EV)'] / financial_and_prices['Free Cash Flow (FCF)']\n",
    "financial_and_prices['P/E'] = financial_and_prices['Close'] / financial_and_prices['EPS - Earnings Per Share']\n",
    "financial_and_prices['P/S'] = (financial_and_prices['Shares Outstanding'] * financial_and_prices['Close']) / financial_and_prices['Revenue']\n",
    "# financial_and_prices['P/B'] = financial_and_prices['Close'] / financial_and_prices['Book Value Per Share']\n",
    "financial_and_prices['P/CF'] = (financial_and_prices['Shares Outstanding'] * financial_and_prices['Close']) / financial_and_prices['Cash Flow From Operating Activities']\n"
   ]
  },
  {
   "cell_type": "code",
   "execution_count": 14,
   "metadata": {},
   "outputs": [],
   "source": [
    "financial_and_prices.reset_index(names='PK', inplace=True)"
   ]
  },
  {
   "cell_type": "code",
   "execution_count": 15,
   "metadata": {},
   "outputs": [],
   "source": [
    "financial_and_prices.to_csv('../../data/processed_03/financial-prices-ratios.csv')"
   ]
  },
  {
   "cell_type": "code",
   "execution_count": 16,
   "metadata": {},
   "outputs": [
    {
     "data": {
      "text/plain": [
       "Index(['Date', 'Cash On Hand', 'Receivables', 'Inventory', 'Pre-Paid Expenses',\n",
       "       'Other Current Assets', 'Total Current Assets',\n",
       "       'Property, Plant, And Equipment', 'Long-Term Investments',\n",
       "       'Goodwill And Intangible Assets', 'Other Long-Term Assets',\n",
       "       'Total Long-Term Assets', 'Total Assets', 'Total Current Liabilities',\n",
       "       'Long Term Debt', 'Other Non-Current Liabilities',\n",
       "       'Total Long Term Liabilities', 'Total Liabilities', 'Common Stock Net',\n",
       "       'Retained Earnings (Accumulated Deficit)', 'Comprehensive Income',\n",
       "       'Other Share Holders Equity', 'Share Holder Equity',\n",
       "       'Total Liabilities And Share Holders Equity', 'ticker', 'industry_x',\n",
       "       'sector_x', 'company_full_name_x', 'country_x', 'Net Income/Loss',\n",
       "       'Total Depreciation And Amortization - Cash Flow',\n",
       "       'Other Non-Cash Items', 'Total Non-Cash Items',\n",
       "       'Change In Accounts Receivable', 'Change In Inventories',\n",
       "       'Change In Accounts Payable', 'Change In Assets/Liabilities',\n",
       "       'Total Change In Assets/Liabilities',\n",
       "       'Cash Flow From Operating Activities',\n",
       "       'Net Change In Property, Plant, And Equipment',\n",
       "       'Net Change In Intangible Assets', 'Net Acquisitions/Divestitures',\n",
       "       'Net Change In Short-term Investments',\n",
       "       'Net Change In Long-Term Investments',\n",
       "       'Net Change In Investments - Total', 'Investing Activities - Other',\n",
       "       'Cash Flow From Investing Activities', 'Net Long-Term Debt',\n",
       "       'Net Current Debt', 'Debt Issuance/Retirement Net - Total',\n",
       "       'Net Common Equity Issued/Repurchased',\n",
       "       'Net Total Equity Issued/Repurchased',\n",
       "       'Total Common And Preferred Stock Dividends Paid',\n",
       "       'Financial Activities - Other', 'Cash Flow From Financial Activities',\n",
       "       'Net Cash Flow', 'Stock-Based Compensation',\n",
       "       'Common Stock Dividends Paid', 'industry_y', 'sector_y',\n",
       "       'company_full_name_y', 'country_y', 'Revenue', 'Cost Of Goods Sold',\n",
       "       'Gross Profit', 'Research And Development Expenses', 'SG&A Expenses',\n",
       "       'Other Operating Income Or Expenses', 'Operating Expenses',\n",
       "       'Operating Income', 'Total Non-Operating Income/Expense',\n",
       "       'Pre-Tax Income', 'Income Taxes', 'Income After Taxes', 'Other Income',\n",
       "       'Income From Continuous Operations',\n",
       "       'Income From Discontinued Operations', 'Net Income', 'EBITDA', 'EBIT',\n",
       "       'Basic Shares Outstanding', 'Shares Outstanding', 'Basic EPS',\n",
       "       'EPS - Earnings Per Share', 'industry', 'sector', 'company_full_name',\n",
       "       'country', 'Year', 'n_nan'],\n",
       "      dtype='object')"
      ]
     },
     "execution_count": 16,
     "metadata": {},
     "output_type": "execute_result"
    }
   ],
   "source": [
    "finantial_sheets.columns"
   ]
  },
  {
   "cell_type": "code",
   "execution_count": null,
   "metadata": {},
   "outputs": [],
   "source": []
  }
 ],
 "metadata": {
  "kernelspec": {
   "display_name": "Python 3",
   "language": "python",
   "name": "python3"
  },
  "language_info": {
   "codemirror_mode": {
    "name": "ipython",
    "version": 3
   },
   "file_extension": ".py",
   "mimetype": "text/x-python",
   "name": "python",
   "nbconvert_exporter": "python",
   "pygments_lexer": "ipython3",
   "version": "3.9.7"
  },
  "orig_nbformat": 4
 },
 "nbformat": 4,
 "nbformat_minor": 2
}
