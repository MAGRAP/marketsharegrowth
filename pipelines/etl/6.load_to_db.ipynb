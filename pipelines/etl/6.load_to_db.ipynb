{
 "cells": [
  {
   "cell_type": "code",
   "execution_count": 5,
   "metadata": {},
   "outputs": [],
   "source": [
    "import yaml\n",
    "import pyodbc\n",
    "from market_growth_analysis.etl.stagging import *\n",
    "import pandas as pd\n",
    "import numpy as np\n",
    "import pyodbc\n",
    "import sqlalchemy\n",
    "from sqlalchemy import create_engine\n",
    "# Load the YAML file\n",
    "with open('../../conf/global.yml', 'r') as f:\n",
    "    columns = yaml.safe_load(f)\n",
    "\n",
    "# Load the YAML file\n",
    "with open('../../conf/local.yml', 'r') as f:\n",
    "    credentials = yaml.safe_load(f)"
   ]
  },
  {
   "cell_type": "code",
   "execution_count": 6,
   "metadata": {},
   "outputs": [],
   "source": [
    "ratios_df = pd.read_csv(\"../../data/load_04/ratios_df.csv\", index_col=0)\n",
    "income_statememnt_df = pd.read_csv(\"../../data/load_04/income_statememnt_df.csv\", index_col=0)\n",
    "balance_sheet_df = pd.read_csv(\"../../data/load_04/balance_sheet_df.csv\", index_col=0)\n",
    "cash_flow_statement_df = pd.read_csv(\"../../data/load_04/cash_flow_statement_df.csv\", index_col=0)\n",
    "prices_df = pd.read_csv(\"../../data/load_04/prices_df.csv\", index_col=0)\n",
    "dim_grouped_df = pd.read_csv(\"../../data/load_04/dim_grouped_df.csv\", index_col=0)"
   ]
  },
  {
   "cell_type": "code",
   "execution_count": 7,
   "metadata": {},
   "outputs": [],
   "source": [
    "ratios_df['Date'] = pd.to_datetime(ratios_df['Date'], format='%Y-%m-%d')\n",
    "income_statememnt_df['Date'] = pd.to_datetime(income_statememnt_df['Date'], format='%Y-%m-%d')\n",
    "balance_sheet_df['Date'] = pd.to_datetime(balance_sheet_df['Date'], format='%Y-%m-%d')\n",
    "cash_flow_statement_df['Date'] = pd.to_datetime(cash_flow_statement_df['Date'], format='%Y-%m-%d')\n",
    "prices_df['Date'] = pd.to_datetime(prices_df['Date'], format='%Y-%m-%d')\n"
   ]
  },
  {
   "cell_type": "code",
   "execution_count": 8,
   "metadata": {},
   "outputs": [],
   "source": [
    "financial_dict = {\n",
    "'FACT_RATIOS': ratios_df,\n",
    "'FACT_INCOME_STATEMENT': income_statememnt_df,\n",
    "'FACT_BALANCE_SHEET': balance_sheet_df,\n",
    "'FACT_CASH_FLOW_STATEMENT': cash_flow_statement_df,\n",
    "'FACT_PRICES': prices_df,\n",
    "'DIM_COMPANY': dim_grouped_df\n",
    "}"
   ]
  },
  {
   "cell_type": "code",
   "execution_count": 9,
   "metadata": {},
   "outputs": [],
   "source": [
    "driver = credentials['warehouse_db']['driver']\n",
    "server = credentials['warehouse_db']['server']\n",
    "database = credentials['warehouse_db']['database']\n",
    "trusted = credentials['warehouse_db']['trusted_connection']\n",
    "user = credentials['warehouse_db']['user']\n",
    "password = credentials['warehouse_db']['password']\n"
   ]
  },
  {
   "cell_type": "code",
   "execution_count": 10,
   "metadata": {},
   "outputs": [],
   "source": [
    "# Connection to input data\n",
    "\n",
    "# Create the connection string\n",
    "if user and password:\n",
    "    connection_string = f'mssql+pyodbc://{user}:{password}@{server}/{database}?driver=ODBC+Driver+17+for+SQL+Server'\n",
    "else:\n",
    "    connection_string = f'mssql+pyodbc://{server}/{database}?driver=ODBC+Driver+17+for+SQL+Server'\n",
    "\n",
    "    \n",
    "# Create the SQLAlchemy engine\n",
    "engine = create_engine(connection_string)"
   ]
  },
  {
   "cell_type": "code",
   "execution_count": 11,
   "metadata": {},
   "outputs": [],
   "source": [
    "# connection to create database\n",
    "\n",
    "conn = pyodbc.connect('Driver={SQL Server};'\n",
    "                      f'Server={server};'\n",
    "                      'Trusted_Connection=yes;')\n",
    "cursor = conn.cursor()"
   ]
  },
  {
   "cell_type": "code",
   "execution_count": null,
   "metadata": {},
   "outputs": [],
   "source": [
    "# # Write the data to the SQL table\n",
    "# ratios_df.to_sql(table_name, con=engine, if_exists='replace', index=False)"
   ]
  },
  {
   "cell_type": "code",
   "execution_count": null,
   "metadata": {},
   "outputs": [],
   "source": [
    "def create_table_from_dataframe(df, table_name, db_name, cursor):\n",
    "    # Drop the table if it exists\n",
    "    drop_table_query = f'DROP TABLE IF EXISTS {db_name}.[dbo].[{table_name}];'\n",
    "    cursor.execute(drop_table_query)\n",
    "\n",
    "    # Generate the column definitions with matching data types\n",
    "    columns = []\n",
    "    for column_name, column_type in df.dtypes.items():\n",
    "        if column_name == 'PK':\n",
    "            columns.append(f'[{column_name}] [int] PRIMARY KEY')\n",
    "        elif column_type == 'object':\n",
    "            columns.append(f'[{column_name}] [varchar](MAX) NULL')\n",
    "        elif column_type == 'int64':\n",
    "            columns.append(f'[{column_name}] [int] NULL')\n",
    "        elif column_type == 'float64':\n",
    "            columns.append(f'[{column_name}] [float] NULL')\n",
    "        elif column_type == 'datetime64[ns]':\n",
    "            columns.append(f'[{column_name}] [datetime] NULL')\n",
    "        elif column_type == 'bool':\n",
    "            columns.append(f'[{column_name}] [bit] NULL')\n",
    "\n",
    "    # Create the table query\n",
    "    create_table_query = f'CREATE TABLE {db_name}.[dbo].[{table_name}] (\\n'\n",
    "    create_table_query += ',\\n'.join(columns)\n",
    "    create_table_query += '\\n) ON [PRIMARY]'\n",
    "\n",
    "    # Execute the CREATE TABLE statement\n",
    "    cursor.execute(create_table_query)\n",
    "    conn.commit() \n",
    "\n",
    "\n",
    "\n",
    "def insert_data_into_table(df, table_name, engine):\n",
    "    # Write the data to the SQL table\n",
    "    df.to_sql(table_name, con=engine, if_exists='replace', index=False)\n"
   ]
  },
  {
   "cell_type": "code",
   "execution_count": null,
   "metadata": {},
   "outputs": [],
   "source": [
    "for table in financial_dict.keys():\n",
    "    create_table_from_dataframe(financial_dict[table], table, database, cursor)\n"
   ]
  },
  {
   "cell_type": "code",
   "execution_count": null,
   "metadata": {},
   "outputs": [],
   "source": [
    "for table in financial_dict.keys():\n",
    "    insert_data_into_table(financial_dict[table], table, engine)\n"
   ]
  }
 ],
 "metadata": {
  "kernelspec": {
   "display_name": "Python 3",
   "language": "python",
   "name": "python3"
  },
  "language_info": {
   "codemirror_mode": {
    "name": "ipython",
    "version": 3
   },
   "file_extension": ".py",
   "mimetype": "text/x-python",
   "name": "python",
   "nbconvert_exporter": "python",
   "pygments_lexer": "ipython3",
   "version": "3.9.7"
  },
  "orig_nbformat": 4
 },
 "nbformat": 4,
 "nbformat_minor": 2
}
