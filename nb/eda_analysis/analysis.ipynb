{
 "cells": [
  {
   "cell_type": "code",
   "execution_count": 59,
   "metadata": {},
   "outputs": [],
   "source": [
    "import streamlit as st\n",
    "import pandas as pd\n",
    "import numpy as np\n",
    "import yaml\n",
    "import pyodbc\n",
    "from market_growth_analysis.etl.stagging import *\n",
    "import pandas as pd\n",
    "import numpy as np\n",
    "import pyodbc\n",
    "import sqlalchemy\n",
    "from sqlalchemy import create_engine\n",
    "import sys\n",
    "import pandas as pd\n",
    "import matplotlib.pyplot as plt\n",
    "\n",
    "# sys.path.append('../conf') \n",
    "# Load the YAML file\n",
    "with open('../../conf/global.yml', 'r') as f:\n",
    "    columns = yaml.safe_load(f)\n",
    "\n",
    "# Load the YAML file\n",
    "with open('../../conf/local.yml', 'r') as f:\n",
    "    credentials = yaml.safe_load(f)\n",
    "\n",
    "\n",
    "# Get credentials\n",
    "driver = credentials['warehouse_db']['driver']\n",
    "server = credentials['warehouse_db']['server']\n",
    "database = credentials['warehouse_db']['database']\n",
    "trusted = credentials['warehouse_db']['trusted_connection']\n",
    "user = credentials['warehouse_db']['user']\n",
    "password = credentials['warehouse_db']['password']\n",
    "\n",
    "# Create connection db\n",
    "conn = pyodbc.connect('Driver={SQL Server};'\n",
    "                      f'Server={server};'\n",
    "                      f'Database={database};'\n",
    "                      'Trusted_Connection=yes;')\n",
    "cursor = conn.cursor()"
   ]
  },
  {
   "cell_type": "code",
   "execution_count": 60,
   "metadata": {},
   "outputs": [
    {
     "name": "stderr",
     "output_type": "stream",
     "text": [
      "C:\\Users\\germa\\AppData\\Local\\Temp/ipykernel_17192/764186177.py:11: UserWarning: pandas only supports SQLAlchemy connectable (engine/connection) or database string URI or sqlite3 DBAPI2 connection. Other DBAPI2 objects are not tested. Please consider using SQLAlchemy.\n",
      "  data = pd.read_sql(join_tables_query, conn)\n"
     ]
    }
   ],
   "source": [
    "# Get data\n",
    "join_tables_query = '''\n",
    "select *\n",
    "from DIM_COMPANY dim\n",
    "join FACT_BALANCE_SHEET bs on bs.ticker = dim.ticker\n",
    "join FACT_CASH_FLOW_STATEMENT cfs on cfs.PK = bs.PK\n",
    "join FACT_INCOME_STATEMENT fis on fis.PK = bs.PK\n",
    "join FACT_PRICES fp on fp.PK = bs.PK\n",
    "join FACT_RATIOS fr on fr.PK = bs.PK\n",
    "'''\n",
    "data = pd.read_sql(join_tables_query, conn)\n",
    "# drop duplicated columns\n",
    "data = data.T.drop_duplicates().T\n",
    "data['Date'] = pd.to_datetime(data['Date'], format=\"%Y/%m/%d\").dt.strftime(\"%Y/%m/%d\")\n"
   ]
  },
  {
   "cell_type": "code",
   "execution_count": 61,
   "metadata": {},
   "outputs": [
    {
     "data": {
      "text/plain": [
       "Index(['ticker', 'company_full_name', 'country', 'industry', 'sector', 'PK',\n",
       "       'Date', 'Cash On Hand', 'Receivables', 'Inventory', 'Pre-Paid Expenses',\n",
       "       'Other Current Assets', 'Total Current Assets',\n",
       "       'Property, Plant, And Equipment', 'Long-Term Investments',\n",
       "       'Goodwill And Intangible Assets', 'Other Long-Term Assets',\n",
       "       'Total Long-Term Assets', 'Total Assets', 'Total Current Liabilities',\n",
       "       'Long Term Debt', 'Other Non-Current Liabilities',\n",
       "       'Total Long Term Liabilities', 'Total Liabilities', 'Common Stock Net',\n",
       "       'Retained Earnings (Accumulated Deficit)', 'Comprehensive Income',\n",
       "       'Other Share Holders Equity', 'Share Holder Equity',\n",
       "       'Total Liabilities And Share Holders Equity', 'Net Income/Loss',\n",
       "       'Total Depreciation And Amortization - Cash Flow',\n",
       "       'Other Non-Cash Items', 'Total Non-Cash Items',\n",
       "       'Change In Accounts Receivable', 'Change In Inventories',\n",
       "       'Change In Accounts Payable', 'Change In Assets/Liabilities',\n",
       "       'Total Change In Assets/Liabilities',\n",
       "       'Cash Flow From Operating Activities',\n",
       "       'Net Change In Property, Plant, And Equipment',\n",
       "       'Net Change In Intangible Assets', 'Net Acquisitions/Divestitures',\n",
       "       'Net Change In Short-term Investments',\n",
       "       'Net Change In Long-Term Investments',\n",
       "       'Net Change In Investments - Total', 'Investing Activities - Other',\n",
       "       'Cash Flow From Investing Activities', 'Net Long-Term Debt',\n",
       "       'Net Current Debt', 'Debt Issuance/Retirement Net - Total',\n",
       "       'Net Common Equity Issued/Repurchased',\n",
       "       'Net Total Equity Issued/Repurchased',\n",
       "       'Total Common And Preferred Stock Dividends Paid',\n",
       "       'Financial Activities - Other', 'Cash Flow From Financial Activities',\n",
       "       'Net Cash Flow', 'Stock-Based Compensation',\n",
       "       'Common Stock Dividends Paid', 'Revenue', 'Cost Of Goods Sold',\n",
       "       'Gross Profit', 'Research And Development Expenses', 'SG&A Expenses',\n",
       "       'Other Operating Income Or Expenses', 'Operating Expenses',\n",
       "       'Operating Income', 'Total Non-Operating Income/Expense',\n",
       "       'Pre-Tax Income', 'Income Taxes', 'Income After Taxes', 'Other Income',\n",
       "       'Income From Continuous Operations',\n",
       "       'Income From Discontinued Operations', 'Net Income', 'EBITDA', 'EBIT',\n",
       "       'Basic Shares Outstanding', 'Shares Outstanding', 'Basic EPS',\n",
       "       'EPS - Earnings Per Share', 'longevity', 'Close', 'Volume', 'Growth -1',\n",
       "       'Growth +1', 'Growth +5', 'Growth -10', 'Growth -5',\n",
       "       'Enterprise Value (EV)', 'EV / Revenue', 'EV / EBITDA', 'EV / EBIT',\n",
       "       'EV / Invested Capital', 'Free Cash Flow (FCF)', 'EV / Free Cash Flow',\n",
       "       'P/E', 'P/S', 'P/CF'],\n",
       "      dtype='object')"
      ]
     },
     "execution_count": 61,
     "metadata": {},
     "output_type": "execute_result"
    }
   ],
   "source": [
    "data.columns"
   ]
  },
  {
   "cell_type": "code",
   "execution_count": 62,
   "metadata": {},
   "outputs": [
    {
     "data": {
      "text/plain": [
       "United States           39989\n",
       "Canada                   1557\n",
       "China                    1229\n",
       "Israel                    753\n",
       "United Kingdom            709\n",
       "Bermuda                   443\n",
       "Ireland                   354\n",
       "Brazil                    350\n",
       "Netherlands               194\n",
       "Hong Kong, SAR China      193\n",
       "Greece                    189\n",
       "Switzerland               189\n",
       "Argentina                 178\n",
       "Germany                   150\n",
       "Mexico                    142\n",
       "South Korea               142\n",
       "Japan                     129\n",
       "Singapore                 127\n",
       "India                     123\n",
       "Australia                 119\n",
       "Luxembourg                117\n",
       "Taiwan                    117\n",
       "France                    115\n",
       "South Africa               94\n",
       "Cayman Islands             94\n",
       "Chile                      86\n",
       "Colombia                   60\n",
       "Spain                      56\n",
       "Belgium                    54\n",
       "Sweden                     53\n",
       "Peru                       53\n",
       "Denmark                    45\n",
       "Italy                      42\n",
       "Panama                     28\n",
       "Norway                     16\n",
       "Turkey                     16\n",
       "Indonesia                  14\n",
       "Finland                    14\n",
       "Philippines                14\n",
       "Jersey                     10\n",
       "Bahamas                     6\n",
       "Russia                      4\n",
       "Name: country, dtype: int64"
      ]
     },
     "execution_count": 62,
     "metadata": {},
     "output_type": "execute_result"
    }
   ],
   "source": [
    "data['country'].value_counts()"
   ]
  },
  {
   "cell_type": "code",
   "execution_count": 63,
   "metadata": {},
   "outputs": [
    {
     "data": {
      "text/plain": [
       "Medical - Biomedical and Genetics        3573\n",
       "Medical - Drug Manufacturing             1682\n",
       "Technology Services                      1232\n",
       "Banks - Northeast                        1199\n",
       "REIT - Other Equity Trusts               1165\n",
       "                                         ... \n",
       "Nanotechnology Equipment and Services      11\n",
       "Electronics - Military Systems             11\n",
       "Retail - Mail Order & Direct                9\n",
       "Printing & Trade Machinery                  8\n",
       "Periodical Publishing                       2\n",
       "Name: industry, Length: 252, dtype: int64"
      ]
     },
     "execution_count": 63,
     "metadata": {},
     "output_type": "execute_result"
    }
   ],
   "source": [
    "data['industry'].value_counts()"
   ]
  },
  {
   "cell_type": "code",
   "execution_count": 64,
   "metadata": {},
   "outputs": [],
   "source": [
    "columns_to_study = columns['columns_prices'] + columns['columns_ratios'] + columns['column_id']"
   ]
  },
  {
   "cell_type": "code",
   "execution_count": 65,
   "metadata": {},
   "outputs": [],
   "source": [
    "industry = 'Technology Services'\n",
    "\n",
    "data_filtered_industry = data[(data['industry'] == industry)&(data['country'] == 'United States')]"
   ]
  },
  {
   "cell_type": "code",
   "execution_count": 66,
   "metadata": {},
   "outputs": [],
   "source": [
    "data_to_study = data_filtered_industry[columns_to_study]"
   ]
  },
  {
   "cell_type": "code",
   "execution_count": 67,
   "metadata": {},
   "outputs": [],
   "source": [
    "data_to_study = data_to_study.dropna(subset='Growth +5')"
   ]
  },
  {
   "cell_type": "code",
   "execution_count": 68,
   "metadata": {},
   "outputs": [],
   "source": [
    "data_to_study_filled = data_to_study.fillna(value=0)"
   ]
  },
  {
   "cell_type": "code",
   "execution_count": 69,
   "metadata": {},
   "outputs": [
    {
     "data": {
      "text/plain": [
       "Index(['longevity', 'Close', 'Volume', 'Growth -1', 'Growth +1', 'Growth +5',\n",
       "       'Growth -10', 'Growth -5', 'Enterprise Value (EV)', 'EV / Revenue',\n",
       "       'EV / EBITDA', 'EV / EBIT', 'EV / Invested Capital',\n",
       "       'Free Cash Flow (FCF)', 'EV / Free Cash Flow', 'P/E', 'P/S', 'P/CF',\n",
       "       'PK', 'ticker', 'Date'],\n",
       "      dtype='object')"
      ]
     },
     "execution_count": 69,
     "metadata": {},
     "output_type": "execute_result"
    }
   ],
   "source": [
    "data_to_study_filled.columns"
   ]
  },
  {
   "cell_type": "code",
   "execution_count": 70,
   "metadata": {},
   "outputs": [],
   "source": [
    "columns_to_drop = ['Growth +1', \n",
    "                   'Date', \n",
    "                   'ticker', \n",
    "                   'Close', \n",
    "                   'Volume', \n",
    "                   'longevity', \n",
    "                   'Enterprise Value (EV)', \n",
    "                   'Free Cash Flow (FCF)', \n",
    "                   'EV / EBITDA', \n",
    "                   'Growth -5', \n",
    "                   'Growth -1', \n",
    "                   'Growth -10',\n",
    "                   'EV / Free Cash Flow',\n",
    "                   'EV / Invested Capital'\n",
    "                   ]\n",
    "data_to_study_filled_drop = data_to_study_filled.drop(columns=columns_to_drop)\n",
    "data_to_study_filled_drop = data_to_study_filled_drop.set_index(keys='PK')"
   ]
  },
  {
   "cell_type": "code",
   "execution_count": 71,
   "metadata": {},
   "outputs": [
    {
     "data": {
      "text/plain": [
       "PK\n",
       "11959    47.155019\n",
       "11961    41.056569\n",
       "11962    12.586863\n",
       "760     -57.217191\n",
       "761      46.862295\n",
       "           ...    \n",
       "39503    17.499998\n",
       "28723   -53.445554\n",
       "897     -54.633024\n",
       "745     -77.806788\n",
       "754      35.485333\n",
       "Name: Growth +5, Length: 334, dtype: float64"
      ]
     },
     "execution_count": 71,
     "metadata": {},
     "output_type": "execute_result"
    }
   ],
   "source": [
    "data_to_study_filled_drop['Growth +5']*100"
   ]
  },
  {
   "cell_type": "code",
   "execution_count": 72,
   "metadata": {},
   "outputs": [
    {
     "data": {
      "text/plain": [
       "count     334.000000\n",
       "mean      110.025355\n",
       "std       440.677658\n",
       "min       -99.999800\n",
       "25%       -56.975394\n",
       "50%        -0.431504\n",
       "75%        90.979180\n",
       "max      3649.999944\n",
       "Name: Growth +5, dtype: float64"
      ]
     },
     "execution_count": 72,
     "metadata": {},
     "output_type": "execute_result"
    }
   ],
   "source": [
    "(data_to_study_filled_drop['Growth +5']*100).describe()"
   ]
  },
  {
   "cell_type": "code",
   "execution_count": 73,
   "metadata": {},
   "outputs": [
    {
     "data": {
      "image/png": "[encoded data removed]",
      "text/plain": [
       "<Figure size 432x288 with 1 Axes>"
      ]
     },
     "metadata": {
      "needs_background": "light"
     },
     "output_type": "display_data"
    }
   ],
   "source": [
    "import matplotlib.pyplot as plt\n",
    "\n",
    "# Assuming data_to_study_filled_drop is your DataFrame\n",
    "plt.boxplot(data_to_study_filled_drop['Growth +5'], showfliers=False)\n",
    "plt.title('Boxplot of Growth +5 (Without Outliers)')\n",
    "plt.ylabel('Values')\n",
    "plt.show()\n"
   ]
  },
  {
   "cell_type": "code",
   "execution_count": 74,
   "metadata": {},
   "outputs": [],
   "source": [
    "# data_to_study_filled_drop['target'] = data_to_study_filled_drop['Growth +5'] > 0\n",
    "# data_to_study_filled_drop['target'] = data_to_study_filled_drop['target'].astype(int)\n",
    "\n",
    "import pandas as pd\n",
    "import numpy as np\n",
    "\n",
    "# Assuming you have a DataFrame named data_to_study_final\n",
    "data_to_study_filled_drop['target'] = np.where(data_to_study_filled_drop['Growth +5'] < 0, 0, \n",
    "                        np.where(data_to_study_filled_drop['Growth +5'] <= data_to_study_filled_drop['Growth +5'].quantile(0.9), 1, 2))\n",
    "\n"
   ]
  },
  {
   "cell_type": "code",
   "execution_count": 75,
   "metadata": {},
   "outputs": [
    {
     "data": {
      "text/plain": [
       "2.8773593254170655"
      ]
     },
     "execution_count": 75,
     "metadata": {},
     "output_type": "execute_result"
    }
   ],
   "source": [
    "data_to_study_filled_drop['Growth +5'].quantile(0.9)"
   ]
  },
  {
   "cell_type": "code",
   "execution_count": 76,
   "metadata": {},
   "outputs": [],
   "source": [
    "data_to_study_final = data_to_study_filled_drop.drop(columns='Growth +5')"
   ]
  },
  {
   "cell_type": "code",
   "execution_count": 77,
   "metadata": {},
   "outputs": [
    {
     "data": {
      "text/plain": [
       "(334, 6)"
      ]
     },
     "execution_count": 77,
     "metadata": {},
     "output_type": "execute_result"
    }
   ],
   "source": [
    "data_to_study_final.shape"
   ]
  },
  {
   "cell_type": "code",
   "execution_count": 78,
   "metadata": {},
   "outputs": [
    {
     "data": {
      "text/plain": [
       "0    167\n",
       "1    133\n",
       "2     34\n",
       "Name: target, dtype: int64"
      ]
     },
     "execution_count": 78,
     "metadata": {},
     "output_type": "execute_result"
    }
   ],
   "source": [
    "data_to_study_final['target'].value_counts()"
   ]
  },
  {
   "cell_type": "code",
   "execution_count": 79,
   "metadata": {},
   "outputs": [],
   "source": [
    "import pandas as pd\n",
    "from sklearn.model_selection import train_test_split\n",
    "from sklearn.svm import SVC\n",
    "from sklearn.metrics import accuracy_score, classification_report, confusion_matrix\n",
    "import matplotlib.pyplot as plt\n",
    "import seaborn as sns"
   ]
  },
  {
   "cell_type": "code",
   "execution_count": 80,
   "metadata": {},
   "outputs": [],
   "source": [
    "X = data_to_study_final.drop('target', axis=1)  # Features\n",
    "y = data_to_study_final['target']  # Target variable\n"
   ]
  },
  {
   "cell_type": "code",
   "execution_count": 81,
   "metadata": {},
   "outputs": [],
   "source": [
    "# import pandas as pd\n",
    "# from sklearn.model_selection import train_test_split, RandomizedSearchCV\n",
    "# from sklearn.svm import SVC\n",
    "# from sklearn.metrics import precision_score, make_scorer\n",
    "\n",
    "# X_train, X_test, y_train, y_test = train_test_split(X, y, test_size=0.1, random_state=42)\n",
    "\n",
    "# # Define the SVM parameter grid to search\n",
    "# param_grid = {\n",
    "#     'C': [0.1, 1, 10],\n",
    "#     'kernel': ['rbf', 'sigmoid'],\n",
    "#     'gamma': [0.0001, 0.001, 0.01, 0.1, 1],\n",
    "#     # 'degree': [2, 3, 4, 5],\n",
    "#     'class_weight': ['balanced']\n",
    "# }\n",
    "\n",
    "# # Create a custom scoring function for precision\n",
    "# scoring = make_scorer(precision_score, average='weighted')\n",
    "\n",
    "# # Create the SVM classifier\n",
    "# svm_classifier = SVC()\n",
    "\n",
    "# # Create a RandomizedSearchCV object\n",
    "# random_search = RandomizedSearchCV(\n",
    "#     estimator=svm_classifier,\n",
    "#     param_distributions=param_grid,\n",
    "#     scoring=scoring,\n",
    "#     cv=5,  # Number of cross-validation folds\n",
    "#     n_iter=50,  # Number of random combinations to try\n",
    "#     verbose=1,\n",
    "#     n_jobs=-1  # Use all available CPU cores for parallel processing\n",
    "# )\n",
    "\n",
    "# # Fit the RandomizedSearchCV to the data\n",
    "# random_search.fit(X_train, y_train)\n",
    "\n",
    "# # Print the best hyperparameters and corresponding precision score\n",
    "# print(\"Best Hyperparameters:\", random_search.best_params_)\n",
    "# print(\"Best Precision Score:\", random_search.best_score_)\n",
    "\n",
    "# # Get the best model from the search\n",
    "# best_svm_classifier = random_search.best_estimator_\n",
    "\n",
    "# # Make predictions on the test set\n",
    "# y_pred = best_svm_classifier.predict(X_test)\n",
    "\n",
    "# # Calculate precision on the test set\n",
    "# precision = precision_score(y_test, y_pred, average='weighted')\n",
    "# print(\"Precision on Test Set:\", precision)\n"
   ]
  },
  {
   "cell_type": "code",
   "execution_count": 82,
   "metadata": {},
   "outputs": [
    {
     "name": "stdout",
     "output_type": "stream",
     "text": [
      "[16:30:45] WARNING: C:/Users/Administrator/workspace/xgboost-win64_release_1.4.0/src/learner.cc:573: \n",
      "Parameters: { \"num_classes\" } might not be used.\n",
      "\n",
      "  This may not be accurate due to some parameters are only used in language bindings but\n",
      "  passed down to XGBoost core.  Or some parameters are not used but slip through this\n",
      "  verification. Please open an issue if you find above cases.\n",
      "\n",
      "\n",
      "[16:30:45] WARNING: C:/Users/Administrator/workspace/xgboost-win64_release_1.4.0/src/learner.cc:1095: Starting in XGBoost 1.3.0, the default evaluation metric used with the objective 'multi:softprob' was changed from 'merror' to 'mlogloss'. Explicitly set eval_metric if you'd like to restore the old behavior.\n",
      "Best Hyperparameters: {'colsample_bytree': 0.8, 'learning_rate': 0.01, 'max_depth': 4, 'n_estimators': 100, 'subsample': 1.0}\n",
      "Best Precision for Class 1: 0.6694078144078145\n"
     ]
    },
    {
     "name": "stderr",
     "output_type": "stream",
     "text": [
      "c:\\Users\\germa\\AppData\\Local\\Programs\\Python\\Python39\\lib\\site-packages\\xgboost\\sklearn.py:1146: UserWarning: The use of label encoder in XGBClassifier is deprecated and will be removed in a future release. To remove this warning, do the following: 1) Pass option use_label_encoder=False when constructing XGBClassifier object; and 2) Encode your labels (y) as integers starting with 0, i.e. 0, 1, 2, ..., [num_class - 1].\n",
      "  warnings.warn(label_encoder_deprecation_msg, UserWarning)\n",
      "c:\\Users\\germa\\AppData\\Local\\Programs\\Python\\Python39\\lib\\site-packages\\xgboost\\data.py:208: FutureWarning: pandas.Int64Index is deprecated and will be removed from pandas in a future version. Use pandas.Index with the appropriate dtype instead.\n",
      "  from pandas import MultiIndex, Int64Index\n"
     ]
    }
   ],
   "source": [
    "import pandas as pd\n",
    "from sklearn.model_selection import GridSearchCV, train_test_split\n",
    "import xgboost as xgb\n",
    "from sklearn.metrics import make_scorer, precision_score\n",
    "\n",
    "# Assuming you have already prepared X_train, X_test, y_train, and y_test\n",
    "X_train, X_test, y_train, y_test = train_test_split(X, y, test_size=0.2, random_state=42)\n",
    "\n",
    "# Create and specify the parameter grid for XGBoost\n",
    "param_grid = {\n",
    "    'n_estimators': [100, 200, 300],\n",
    "    'learning_rate': [0.01, 0.1, 0.2],\n",
    "    'max_depth': [3, 4, 5],\n",
    "    'subsample': [0.8, 0.9, 1.0],\n",
    "    'colsample_bytree': [0.8, 0.9, 1.0],\n",
    "}\n",
    "\n",
    "# Create the XGBoost classifier\n",
    "xgb_classifier = xgb.XGBClassifier(objective='multi:softmax', num_classes=3, random_state=42)\n",
    "\n",
    "# Create a custom scoring function for precision of class 1\n",
    "custom_scorer = make_scorer(precision_score, labels=[1], average='macro')\n",
    "\n",
    "# Create a GridSearchCV object with the custom scoring function\n",
    "grid_search = GridSearchCV(estimator=xgb_classifier, param_grid=param_grid, scoring=custom_scorer, cv=10, n_jobs=-1)\n",
    "\n",
    "# Fit the GridSearchCV to the data\n",
    "grid_search.fit(X_train, y_train)\n",
    "\n",
    "# Print the best hyperparameters and the corresponding precision for class 1\n",
    "print(\"Best Hyperparameters:\", grid_search.best_params_)\n",
    "print(\"Best Precision for Class 1:\", grid_search.best_score_)\n",
    "\n",
    "# Get the best model from the search\n",
    "best_xgb_classifier = grid_search.best_estimator_\n",
    "\n"
   ]
  },
  {
   "cell_type": "code",
   "execution_count": 83,
   "metadata": {},
   "outputs": [],
   "source": [
    "# Best Hyperparameters: {'colsample_bytree': 0.8, 'learning_rate': 0.01, 'max_depth': 3, 'n_estimators': 100, 'subsample': 0.9} precison class 1: 0.72 w growth -1, -10"
   ]
  },
  {
   "cell_type": "code",
   "execution_count": 90,
   "metadata": {},
   "outputs": [
    {
     "name": "stderr",
     "output_type": "stream",
     "text": [
      "C:\\Users\\germa\\AppData\\Local\\Temp/ipykernel_17192/2073886104.py:15: FutureWarning: The behavior of `series[i:j]` with an integer-dtype index is deprecated. In a future version, this will be treated as *label-based* indexing, consistent with e.g. `series[i]` lookups. To retain the old behavior, use `series.iloc[i:j]`. To get the future behavior, use `series.loc[i:j]`.\n",
      "  plt.barh(range(top_n), feature_importance_df['Importance'][:top_n], align='center')\n",
      "C:\\Users\\germa\\AppData\\Local\\Temp/ipykernel_17192/2073886104.py:16: FutureWarning: The behavior of `series[i:j]` with an integer-dtype index is deprecated. In a future version, this will be treated as *label-based* indexing, consistent with e.g. `series[i]` lookups. To retain the old behavior, use `series.iloc[i:j]`. To get the future behavior, use `series.loc[i:j]`.\n",
      "  plt.yticks(range(top_n), feature_importance_df['Feature'][:top_n])\n"
     ]
    },
    {
     "data": {
      "image/png": "[encoded data removed]",
      "text/plain": [
       "<Figure size 720x432 with 1 Axes>"
      ]
     },
     "metadata": {
      "needs_background": "light"
     },
     "output_type": "display_data"
    }
   ],
   "source": [
    "import matplotlib.pyplot as plt\n",
    "\n",
    "# Get feature importances from the best model\n",
    "feature_importances = best_xgb_classifier.feature_importances_\n",
    "\n",
    "# Create a DataFrame to display feature names and their importance scores\n",
    "feature_importance_df = pd.DataFrame({'Feature': X_train.columns, 'Importance': feature_importances})\n",
    "\n",
    "# Sort the features by importance in descending order\n",
    "feature_importance_df = feature_importance_df.sort_values(by='Importance', ascending=False)\n",
    "\n",
    "# Plot the top N important features\n",
    "top_n =len(X_train.columns)  # Change this value to display more or fewer features\n",
    "plt.figure(figsize=(10, 6))\n",
    "plt.barh(range(top_n), feature_importance_df['Importance'][:top_n], align='center')\n",
    "plt.yticks(range(top_n), feature_importance_df['Feature'][:top_n])\n",
    "plt.xlabel('Feature Importance')\n",
    "plt.title('Top {} Important Features'.format(top_n))\n",
    "plt.gca().invert_yaxis()\n",
    "plt.show()\n"
   ]
  },
  {
   "cell_type": "code",
   "execution_count": 91,
   "metadata": {},
   "outputs": [
    {
     "data": {
      "image/png": "[encoded data removed]",
      "text/plain": [
       "<Figure size 432x288 with 2 Axes>"
      ]
     },
     "metadata": {
      "needs_background": "light"
     },
     "output_type": "display_data"
    },
    {
     "name": "stdout",
     "output_type": "stream",
     "text": [
      "Classification Report:\n",
      "               precision    recall  f1-score   support\n",
      "\n",
      "     Class 0       0.55      0.66      0.60        32\n",
      "     Class 1       0.59      0.57      0.58        28\n",
      "     Class 2       0.50      0.14      0.22         7\n",
      "\n",
      "    accuracy                           0.57        67\n",
      "   macro avg       0.55      0.46      0.47        67\n",
      "weighted avg       0.56      0.57      0.55        67\n",
      "\n"
     ]
    }
   ],
   "source": [
    "import matplotlib.pyplot as plt\n",
    "from sklearn.metrics import confusion_matrix, classification_report\n",
    "\n",
    "# Assuming you have already prepared X_test and y_test and have the best_xgb_classifier from the previous code\n",
    "\n",
    "# Make predictions on the test set\n",
    "y_pred = best_xgb_classifier.predict(X_test)\n",
    "\n",
    "# Calculate the confusion matrix\n",
    "conf_matrix = confusion_matrix(y_test, y_pred)\n",
    "\n",
    "# Display the confusion matrix as a heatmap\n",
    "plt.figure(figsize=(6, 4))\n",
    "plt.imshow(conf_matrix, interpolation='nearest', cmap=plt.cm.Blues)\n",
    "plt.title('Confusion Matrix')\n",
    "plt.colorbar()\n",
    "plt.xticks(range(len(set(y_test))), ['Class 0', 'Class 1', 'Class 2'], rotation=45)\n",
    "plt.yticks(range(len(set(y_test))), ['Class 0', 'Class 1', 'Class 2'])\n",
    "plt.xlabel('Predicted')\n",
    "plt.ylabel('True')\n",
    "plt.show()\n",
    "\n",
    "# Generate a classification report for more detailed metrics\n",
    "classification_rep = classification_report(y_test, y_pred, target_names=['Class 0', 'Class 1', 'Class 2'])\n",
    "print('Classification Report:\\n', classification_rep)\n"
   ]
  },
  {
   "cell_type": "code",
   "execution_count": null,
   "metadata": {},
   "outputs": [
    {
     "data": {
      "text/plain": [
       "array([[20, 11,  1],\n",
       "       [ 8, 21,  0],\n",
       "       [ 3,  3,  0]], dtype=int64)"
      ]
     },
     "execution_count": 57,
     "metadata": {},
     "output_type": "execute_result"
    }
   ],
   "source": [
    "conf_matrix\n"
   ]
  },
  {
   "cell_type": "code",
   "execution_count": null,
   "metadata": {},
   "outputs": [
    {
     "data": {
      "text/plain": [
       "array([1, 1, 0, 0, 1, 1, 0, 0, 1, 1, 0, 0, 1, 0, 1, 0, 1, 2, 1, 1, 1, 1,\n",
       "       0, 0, 0, 1, 0, 1, 1, 0, 0, 1, 0, 0, 1, 1, 0, 0, 1, 1, 0, 1, 0, 0,\n",
       "       1, 0, 1, 1, 0, 1, 0, 0, 1, 1, 1, 1, 1, 1, 0, 0, 0, 0, 0, 1, 0, 1,\n",
       "       1])"
      ]
     },
     "execution_count": 58,
     "metadata": {},
     "output_type": "execute_result"
    }
   ],
   "source": [
    "y_pred"
   ]
  },
  {
   "cell_type": "code",
   "execution_count": null,
   "metadata": {},
   "outputs": [],
   "source": []
  }
 ],
 "metadata": {
  "kernelspec": {
   "display_name": "Python 3",
   "language": "python",
   "name": "python3"
  },
  "language_info": {
   "codemirror_mode": {
    "name": "ipython",
    "version": 3
   },
   "file_extension": ".py",
   "mimetype": "text/x-python",
   "name": "python",
   "nbconvert_exporter": "python",
   "pygments_lexer": "ipython3",
   "version": "3.9.7"
  },
  "orig_nbformat": 4
 },
 "nbformat": 4,
 "nbformat_minor": 2
}
