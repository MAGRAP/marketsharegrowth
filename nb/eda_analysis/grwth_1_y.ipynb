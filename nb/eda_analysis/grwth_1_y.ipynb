{
 "cells": [
  {
   "cell_type": "code",
   "execution_count": 39,
   "metadata": {},
   "outputs": [],
   "source": [
    "import streamlit as st\n",
    "import pandas as pd\n",
    "import numpy as np\n",
    "import yaml\n",
    "import pyodbc\n",
    "from market_growth_analysis.etl.stagging import *\n",
    "import pandas as pd\n",
    "import numpy as np\n",
    "import pyodbc\n",
    "import sqlalchemy\n",
    "from sqlalchemy import create_engine\n",
    "import sys\n",
    "import pandas as pd\n",
    "import matplotlib.pyplot as plt\n",
    "\n",
    "# sys.path.append('../conf') \n",
    "# Load the YAML file\n",
    "with open('../../conf/global.yml', 'r') as f:\n",
    "    columns = yaml.safe_load(f)\n",
    "\n",
    "# Load the YAML file\n",
    "with open('../../conf/local.yml', 'r') as f:\n",
    "    credentials = yaml.safe_load(f)\n",
    "\n",
    "\n",
    "# Get credentials\n",
    "driver = credentials['warehouse_db']['driver']\n",
    "server = credentials['warehouse_db']['server']\n",
    "database = credentials['warehouse_db']['database']\n",
    "trusted = credentials['warehouse_db']['trusted_connection']\n",
    "user = credentials['warehouse_db']['user']\n",
    "password = credentials['warehouse_db']['password']\n",
    "\n",
    "# Create connection db\n",
    "conn = pyodbc.connect('Driver={SQL Server};'\n",
    "                      f'Server={server};'\n",
    "                      f'Database={database};'\n",
    "                      'Trusted_Connection=yes;')\n",
    "cursor = conn.cursor()"
   ]
  },
  {
   "cell_type": "code",
   "execution_count": 40,
   "metadata": {},
   "outputs": [
    {
     "name": "stderr",
     "output_type": "stream",
     "text": [
      "C:\\Users\\germa\\AppData\\Local\\Temp/ipykernel_13112/764186177.py:11: UserWarning: pandas only supports SQLAlchemy connectable (engine/connection) or database string URI or sqlite3 DBAPI2 connection. Other DBAPI2 objects are not tested. Please consider using SQLAlchemy.\n",
      "  data = pd.read_sql(join_tables_query, conn)\n"
     ]
    }
   ],
   "source": [
    "# Get data\n",
    "join_tables_query = '''\n",
    "select *\n",
    "from DIM_COMPANY dim\n",
    "join FACT_BALANCE_SHEET bs on bs.ticker = dim.ticker\n",
    "join FACT_CASH_FLOW_STATEMENT cfs on cfs.PK = bs.PK\n",
    "join FACT_INCOME_STATEMENT fis on fis.PK = bs.PK\n",
    "join FACT_PRICES fp on fp.PK = bs.PK\n",
    "join FACT_RATIOS fr on fr.PK = bs.PK\n",
    "'''\n",
    "data = pd.read_sql(join_tables_query, conn)\n",
    "# drop duplicated columns\n",
    "data = data.T.drop_duplicates().T\n",
    "data['Date'] = pd.to_datetime(data['Date'], format=\"%Y/%m/%d\").dt.strftime(\"%Y/%m/%d\")\n"
   ]
  },
  {
   "cell_type": "code",
   "execution_count": 41,
   "metadata": {},
   "outputs": [
    {
     "data": {
      "text/plain": [
       "Index(['ticker', 'company_full_name', 'country', 'industry', 'sector', 'PK',\n",
       "       'Date', 'Cash On Hand', 'Receivables', 'Inventory', 'Pre-Paid Expenses',\n",
       "       'Other Current Assets', 'Total Current Assets',\n",
       "       'Property, Plant, And Equipment', 'Long-Term Investments',\n",
       "       'Goodwill And Intangible Assets', 'Other Long-Term Assets',\n",
       "       'Total Long-Term Assets', 'Total Assets', 'Total Current Liabilities',\n",
       "       'Long Term Debt', 'Other Non-Current Liabilities',\n",
       "       'Total Long Term Liabilities', 'Total Liabilities', 'Common Stock Net',\n",
       "       'Retained Earnings (Accumulated Deficit)', 'Comprehensive Income',\n",
       "       'Other Share Holders Equity', 'Share Holder Equity',\n",
       "       'Total Liabilities And Share Holders Equity', 'Net Income/Loss',\n",
       "       'Total Depreciation And Amortization - Cash Flow',\n",
       "       'Other Non-Cash Items', 'Total Non-Cash Items',\n",
       "       'Change In Accounts Receivable', 'Change In Inventories',\n",
       "       'Change In Accounts Payable', 'Change In Assets/Liabilities',\n",
       "       'Total Change In Assets/Liabilities',\n",
       "       'Cash Flow From Operating Activities',\n",
       "       'Net Change In Property, Plant, And Equipment',\n",
       "       'Net Change In Intangible Assets', 'Net Acquisitions/Divestitures',\n",
       "       'Net Change In Short-term Investments',\n",
       "       'Net Change In Long-Term Investments',\n",
       "       'Net Change In Investments - Total', 'Investing Activities - Other',\n",
       "       'Cash Flow From Investing Activities', 'Net Long-Term Debt',\n",
       "       'Net Current Debt', 'Debt Issuance/Retirement Net - Total',\n",
       "       'Net Common Equity Issued/Repurchased',\n",
       "       'Net Total Equity Issued/Repurchased',\n",
       "       'Total Common And Preferred Stock Dividends Paid',\n",
       "       'Financial Activities - Other', 'Cash Flow From Financial Activities',\n",
       "       'Net Cash Flow', 'Stock-Based Compensation',\n",
       "       'Common Stock Dividends Paid', 'Revenue', 'Cost Of Goods Sold',\n",
       "       'Gross Profit', 'Research And Development Expenses', 'SG&A Expenses',\n",
       "       'Other Operating Income Or Expenses', 'Operating Expenses',\n",
       "       'Operating Income', 'Total Non-Operating Income/Expense',\n",
       "       'Pre-Tax Income', 'Income Taxes', 'Income After Taxes', 'Other Income',\n",
       "       'Income From Continuous Operations',\n",
       "       'Income From Discontinued Operations', 'Net Income', 'EBITDA', 'EBIT',\n",
       "       'Basic Shares Outstanding', 'Shares Outstanding', 'Basic EPS',\n",
       "       'EPS - Earnings Per Share', 'longevity', 'Close', 'Volume', 'Growth -1',\n",
       "       'Growth +1', 'Growth +5', 'Growth -10', 'Growth -5',\n",
       "       'Enterprise Value (EV)', 'EV / Revenue', 'EV / EBITDA', 'EV / EBIT',\n",
       "       'EV / Invested Capital', 'Free Cash Flow (FCF)', 'EV / Free Cash Flow',\n",
       "       'P/E', 'P/S', 'P/CF'],\n",
       "      dtype='object')"
      ]
     },
     "execution_count": 41,
     "metadata": {},
     "output_type": "execute_result"
    }
   ],
   "source": [
    "data.columns"
   ]
  },
  {
   "cell_type": "code",
   "execution_count": 42,
   "metadata": {},
   "outputs": [
    {
     "data": {
      "text/plain": [
       "United States           39989\n",
       "Canada                   1557\n",
       "China                    1229\n",
       "Israel                    753\n",
       "United Kingdom            709\n",
       "Bermuda                   443\n",
       "Ireland                   354\n",
       "Brazil                    350\n",
       "Netherlands               194\n",
       "Hong Kong, SAR China      193\n",
       "Switzerland               189\n",
       "Greece                    189\n",
       "Argentina                 178\n",
       "Germany                   150\n",
       "South Korea               142\n",
       "Mexico                    142\n",
       "Japan                     129\n",
       "Singapore                 127\n",
       "India                     123\n",
       "Australia                 119\n",
       "Luxembourg                117\n",
       "Taiwan                    117\n",
       "France                    115\n",
       "South Africa               94\n",
       "Cayman Islands             94\n",
       "Chile                      86\n",
       "Colombia                   60\n",
       "Spain                      56\n",
       "Belgium                    54\n",
       "Peru                       53\n",
       "Sweden                     53\n",
       "Denmark                    45\n",
       "Italy                      42\n",
       "Panama                     28\n",
       "Norway                     16\n",
       "Turkey                     16\n",
       "Philippines                14\n",
       "Indonesia                  14\n",
       "Finland                    14\n",
       "Jersey                     10\n",
       "Bahamas                     6\n",
       "Russia                      4\n",
       "Name: country, dtype: int64"
      ]
     },
     "execution_count": 42,
     "metadata": {},
     "output_type": "execute_result"
    }
   ],
   "source": [
    "data['country'].value_counts()"
   ]
  },
  {
   "cell_type": "code",
   "execution_count": 43,
   "metadata": {},
   "outputs": [
    {
     "data": {
      "text/plain": [
       "Medical - Biomedical and Genetics        3573\n",
       "Medical - Drug Manufacturing             1682\n",
       "Technology Services                      1232\n",
       "Banks - Northeast                        1199\n",
       "REIT - Other Equity Trusts               1165\n",
       "                                         ... \n",
       "Nanotechnology Equipment and Services      11\n",
       "Electronics - Military Systems             11\n",
       "Retail - Mail Order & Direct                9\n",
       "Printing & Trade Machinery                  8\n",
       "Periodical Publishing                       2\n",
       "Name: industry, Length: 252, dtype: int64"
      ]
     },
     "execution_count": 43,
     "metadata": {},
     "output_type": "execute_result"
    }
   ],
   "source": [
    "data['industry'].value_counts()"
   ]
  },
  {
   "cell_type": "code",
   "execution_count": 44,
   "metadata": {},
   "outputs": [],
   "source": [
    "columns_to_study = columns['columns_prices'] + columns['columns_ratios'] + columns['column_id']"
   ]
  },
  {
   "cell_type": "code",
   "execution_count": 45,
   "metadata": {},
   "outputs": [],
   "source": [
    "industry = 'Medical - Biomedical and Genetics'\n",
    "\n",
    "data_filtered_industry = data[(data['industry'] == industry)&(data['country'] == 'United States')]"
   ]
  },
  {
   "cell_type": "code",
   "execution_count": 46,
   "metadata": {},
   "outputs": [
    {
     "data": {
      "text/plain": [
       "456"
      ]
     },
     "execution_count": 46,
     "metadata": {},
     "output_type": "execute_result"
    }
   ],
   "source": [
    "len(data_filtered_industry['ticker'].unique())"
   ]
  },
  {
   "cell_type": "code",
   "execution_count": 47,
   "metadata": {},
   "outputs": [],
   "source": [
    "data_to_study = data_filtered_industry[columns_to_study]"
   ]
  },
  {
   "cell_type": "code",
   "execution_count": 48,
   "metadata": {},
   "outputs": [],
   "source": [
    "data_to_study = data_to_study.dropna(subset='Growth +1')"
   ]
  },
  {
   "cell_type": "code",
   "execution_count": 49,
   "metadata": {},
   "outputs": [],
   "source": [
    "data_to_study_filled = data_to_study.fillna(value=0)"
   ]
  },
  {
   "cell_type": "code",
   "execution_count": 50,
   "metadata": {},
   "outputs": [
    {
     "data": {
      "text/plain": [
       "Index(['longevity', 'Close', 'Volume', 'Growth -1', 'Growth +1', 'Growth +5',\n",
       "       'Growth -10', 'Growth -5', 'Enterprise Value (EV)', 'EV / Revenue',\n",
       "       'EV / EBITDA', 'EV / EBIT', 'EV / Invested Capital',\n",
       "       'Free Cash Flow (FCF)', 'EV / Free Cash Flow', 'P/E', 'P/S', 'P/CF',\n",
       "       'PK', 'ticker', 'Date'],\n",
       "      dtype='object')"
      ]
     },
     "execution_count": 50,
     "metadata": {},
     "output_type": "execute_result"
    }
   ],
   "source": [
    "data_to_study_filled.columns"
   ]
  },
  {
   "cell_type": "code",
   "execution_count": 51,
   "metadata": {},
   "outputs": [],
   "source": [
    "columns_to_drop = ['Growth +5', \n",
    "                #    'Date', \n",
    "                #    'ticker', \n",
    "                   'Close', \n",
    "                   'Volume', \n",
    "                   'longevity', \n",
    "                   'Enterprise Value (EV)', \n",
    "                   'Free Cash Flow (FCF)', \n",
    "                   'EV / EBITDA', \n",
    "                   'Growth -5', \n",
    "                   'Growth -1', \n",
    "                   'Growth -10',\n",
    "                   'EV / Free Cash Flow',\n",
    "                   'EV / Invested Capital'\n",
    "                   ]\n",
    "data_to_study_filled_drop = data_to_study_filled.drop(columns=columns_to_drop)\n",
    "data_to_study_filled_drop = data_to_study_filled_drop.set_index(keys='PK')"
   ]
  },
  {
   "cell_type": "code",
   "execution_count": 52,
   "metadata": {},
   "outputs": [
    {
     "data": {
      "text/plain": [
       "PK\n",
       "4054    -54.476668\n",
       "4056    -70.671142\n",
       "5876    -60.640301\n",
       "5812     -1.392397\n",
       "5813    -17.480541\n",
       "           ...    \n",
       "47981   -23.132186\n",
       "47984   -56.637555\n",
       "47983   -64.385692\n",
       "32506    33.555561\n",
       "44047    57.598050\n",
       "Name: Growth +1, Length: 2387, dtype: float64"
      ]
     },
     "execution_count": 52,
     "metadata": {},
     "output_type": "execute_result"
    }
   ],
   "source": [
    "data_to_study_filled_drop['Growth +1']*100"
   ]
  },
  {
   "cell_type": "code",
   "execution_count": 53,
   "metadata": {},
   "outputs": [
    {
     "data": {
      "text/plain": [
       "count    2387.000000\n",
       "mean       10.454595\n",
       "std       204.415933\n",
       "min       -99.444444\n",
       "25%       -57.321640\n",
       "50%       -20.000000\n",
       "75%        27.615242\n",
       "max      5346.428741\n",
       "Name: Growth +1, dtype: float64"
      ]
     },
     "execution_count": 53,
     "metadata": {},
     "output_type": "execute_result"
    }
   ],
   "source": [
    "(data_to_study_filled_drop['Growth +1']*100).describe()"
   ]
  },
  {
   "cell_type": "code",
   "execution_count": 54,
   "metadata": {},
   "outputs": [
    {
     "data": {
      "image/png": "[encoded data removed]",
      "text/plain": [
       "<Figure size 432x288 with 1 Axes>"
      ]
     },
     "metadata": {
      "needs_background": "light"
     },
     "output_type": "display_data"
    }
   ],
   "source": [
    "import matplotlib.pyplot as plt\n",
    "\n",
    "# Assuming data_to_study_filled_drop is your DataFrame\n",
    "plt.boxplot(data_to_study_filled_drop['Growth +1'], showfliers=False)\n",
    "plt.title('Boxplot of Growth +5 (Without Outliers)')\n",
    "plt.ylabel('Values')\n",
    "plt.show()\n"
   ]
  },
  {
   "cell_type": "code",
   "execution_count": 55,
   "metadata": {},
   "outputs": [
    {
     "data": {
      "text/plain": [
       "2"
      ]
     },
     "execution_count": 55,
     "metadata": {},
     "output_type": "execute_result"
    }
   ],
   "source": [
    "# data_to_study_filled_drop['target'] = data_to_study_filled_drop['Growth +5'] > 0\n",
    "# data_to_study_filled_drop['target'] = data_to_study_filled_drop['target'].astype(int)\n",
    "\n",
    "import pandas as pd\n",
    "import numpy as np\n",
    "\n",
    "# Assuming you have a DataFrame named data_to_study_final\n",
    "# data_to_study_filled_drop['target'] = np.where(data_to_study_filled_drop['Growth +5'] < 0, 0, \n",
    "#                         np.where(data_to_study_filled_drop['Growth +5'] <= data_to_study_filled_drop['Growth +5'].quantile(0.9), 1, 2))\n",
    "\n",
    "data_to_study_filled_drop['target'] = np.where(data_to_study_filled_drop['Growth +1'] < 0, 0, 1)\n",
    "\n",
    "# data_to_study_filled_drop['target'] = np.where(data_to_study_filled_drop['Growth +5'] < 0, 0, \n",
    "#                                     np.where(data_to_study_filled_drop['Growth +5'] < 2.5, 1, 2))\n",
    "\n",
    "num_classes = len(data_to_study_filled_drop['target'].unique())\n",
    "num_classes"
   ]
  },
  {
   "cell_type": "code",
   "execution_count": 56,
   "metadata": {},
   "outputs": [
    {
     "data": {
      "text/plain": [
       "0    1483\n",
       "1     904\n",
       "Name: target, dtype: int64"
      ]
     },
     "execution_count": 56,
     "metadata": {},
     "output_type": "execute_result"
    }
   ],
   "source": [
    "data_to_study_filled_drop['target'].value_counts()"
   ]
  },
  {
   "cell_type": "code",
   "execution_count": 57,
   "metadata": {},
   "outputs": [
    {
     "data": {
      "text/plain": [
       "0.9859185476302782"
      ]
     },
     "execution_count": 57,
     "metadata": {},
     "output_type": "execute_result"
    }
   ],
   "source": [
    "data_to_study_filled_drop['Growth +1'].quantile(0.9)"
   ]
  },
  {
   "cell_type": "code",
   "execution_count": 58,
   "metadata": {},
   "outputs": [],
   "source": [
    "# data_to_study_final = data_to_study_filled_drop.drop(columns='Growth +5')\n",
    "data_to_study_final = data_to_study_filled_drop"
   ]
  },
  {
   "cell_type": "code",
   "execution_count": 59,
   "metadata": {},
   "outputs": [
    {
     "data": {
      "text/plain": [
       "(2387, 9)"
      ]
     },
     "execution_count": 59,
     "metadata": {},
     "output_type": "execute_result"
    }
   ],
   "source": [
    "data_to_study_final.shape"
   ]
  },
  {
   "cell_type": "code",
   "execution_count": 60,
   "metadata": {},
   "outputs": [
    {
     "data": {
      "text/plain": [
       "0    1483\n",
       "1     904\n",
       "Name: target, dtype: int64"
      ]
     },
     "execution_count": 60,
     "metadata": {},
     "output_type": "execute_result"
    }
   ],
   "source": [
    "data_to_study_final['target'].value_counts()"
   ]
  },
  {
   "cell_type": "markdown",
   "metadata": {},
   "source": [
    "# Create LSTM Model"
   ]
  },
  {
   "cell_type": "code",
   "execution_count": 61,
   "metadata": {},
   "outputs": [],
   "source": [
    "import pandas as pd\n",
    "from sklearn.model_selection import train_test_split\n",
    "from sklearn.svm import SVC\n",
    "from sklearn.metrics import accuracy_score, classification_report, confusion_matrix\n",
    "import matplotlib.pyplot as plt\n",
    "import seaborn as sns"
   ]
  },
  {
   "cell_type": "code",
   "execution_count": 62,
   "metadata": {},
   "outputs": [],
   "source": [
    "import pandas as pd\n",
    "import numpy as np\n",
    "import torch\n",
    "import torch.nn as nn\n",
    "import torch.optim as optim\n",
    "from sklearn.model_selection import train_test_split\n",
    "from sklearn.preprocessing import MinMaxScaler\n",
    "from sklearn.preprocessing import LabelEncoder"
   ]
  },
  {
   "cell_type": "markdown",
   "metadata": {},
   "source": [
    "## Prepare Data"
   ]
  },
  {
   "cell_type": "code",
   "execution_count": 170,
   "metadata": {},
   "outputs": [],
   "source": [
    "# Load your financial data into a DataFrame (replace 'your_data.csv' with your dataset)\n",
    "df = data_to_study_final.copy()\n",
    "\n",
    "# Define the sequence length and other hyperparameters\n",
    "n_steps = 5 # years to study prior\n",
    "# n_features = len(df.columns) - 1  # Replace with the number of feature columns in your dataset\n",
    "num_companies = len(df['ticker'].unique())  # Assuming you have a 'ticker' column\n",
    "\n",
    "# Use LabelEncoder to convert 'ticker' values to numerical labels\n",
    "label_encoder = LabelEncoder()\n",
    "df['ticker'] = label_encoder.fit_transform(df['ticker'])\n",
    "\n",
    "# Prepare an empty list to store sequences for all companies\n",
    "all_sequences = []\n",
    "all_targets = []  # To store the corresponding target values\n",
    "all_sequences_train = []\n",
    "all_sequences_test = []\n",
    "all_targets_train = []  # To store the corresponding target values\n",
    "all_targets_test = []  # To store the corresponding target values\n",
    "all_info_rows_test = []\n",
    "all_info_rows_train = []\n",
    "\n",
    "# Define the percentage of data to allocate for testing\n",
    "test_size = 0.2\n",
    "\n",
    "# Iterate through unique company labels\n",
    "for label in df['ticker'].unique():\n",
    "    # Filter data for the current company label\n",
    "    company_data = df[df['ticker'] == label]\n",
    "\n",
    "    # Sort data by date\n",
    "    company_data_complete = company_data.sort_values(by='Date')\n",
    "    company_data = company_data.sort_values(by='Date').drop(columns=['Date', 'ticker', 'Growth +1'])\n",
    "    n_features = len(company_data.columns) - 1 \n",
    "    # Create sequences for the current company\n",
    "    sequences = []\n",
    "    targets = []  # To store the corresponding target values\n",
    "    info_rows = []\n",
    "    sequences_train = []\n",
    "    sequences_test = []\n",
    "    targets_train = []\n",
    "    targets_test = []\n",
    "    for i in range(len(company_data) - n_steps + 1):\n",
    "        sequence = company_data.iloc[i:i + n_steps, 0:n_features].values  # Adjust column indices\n",
    "        target = company_data.iloc[i + n_steps - 1, n_features]  # Assuming the target column is the last one\n",
    "        info_row = company_data_complete.iloc[i + n_steps - 1]\n",
    "        sequences.append(sequence)\n",
    "        targets.append(target)\n",
    "        info_rows.append(info_row)\n",
    "\n",
    "    # Calculate the index to split the data\n",
    "    split_index = int(len(targets) * (1 - test_size))\n",
    "\n",
    "    # Split the data into training and testing sets\n",
    "    sequences_train = sequences[:split_index]\n",
    "    sequences_test = sequences[split_index:]\n",
    "    targets_train = targets[:split_index]\n",
    "    targets_test = targets[split_index:]\n",
    "    info_rows_train = info_rows[:split_index]\n",
    "    info_rows_test = info_rows[split_index:]\n",
    "\n",
    "    # Append sequences and corresponding targets to the lists\n",
    "    all_sequences.extend(sequences)\n",
    "    all_targets.extend(targets)\n",
    "    # Append sequences and corresponding targets to the lists\n",
    "    all_sequences_train.extend(sequences_train)\n",
    "    all_sequences_test.extend(sequences_test)\n",
    "    all_targets_train.extend(targets_train)\n",
    "    all_targets_test.extend(targets_test)\n",
    "    all_info_rows_train.extend(info_rows_train)\n",
    "    all_info_rows_test.extend(info_rows_test)"
   ]
  },
  {
   "cell_type": "markdown",
   "metadata": {},
   "source": [
    "# Split train test"
   ]
  },
  {
   "cell_type": "code",
   "execution_count": 171,
   "metadata": {},
   "outputs": [],
   "source": [
    "from sklearn.model_selection import train_test_split\n",
    "\n",
    "# # Define the percentage of data to allocate for testing\n",
    "# test_size = 0.2\n",
    "\n",
    "# # Calculate the index to split the data\n",
    "# split_index = int(len(all_targets) * (1 - test_size))\n",
    "\n",
    "# Split the data into training and testing sets\n",
    "X_train, X_test = all_sequences_train, all_sequences_test\n",
    "y_train, y_test = all_targets_train, all_targets_test\n",
    "\n",
    "train_all_info, test_all_info = all_info_rows_train, all_info_rows_test"
   ]
  },
  {
   "cell_type": "markdown",
   "metadata": {},
   "source": [
    "## Create Model"
   ]
  },
  {
   "cell_type": "code",
   "execution_count": 172,
   "metadata": {},
   "outputs": [],
   "source": [
    "import torch\n",
    "import torch.nn as nn\n",
    "import torch.optim as optim\n",
    "from sklearn.metrics import accuracy_score, precision_score, recall_score, f1_score, confusion_matrix\n",
    "\n",
    "# Define the LSTM model for classification\n",
    "class LSTMClassificationModel(nn.Module):\n",
    "    def __init__(self, input_size, hidden_size, num_layers, output_size):\n",
    "        super(LSTMClassificationModel, self).__init__()\n",
    "        self.hidden_size = hidden_size\n",
    "        self.num_layers = num_layers\n",
    "        self.lstm = nn.LSTM(input_size, hidden_size, num_layers, batch_first=True)\n",
    "        self.fc = nn.Linear(hidden_size, output_size)\n",
    "\n",
    "    def forward(self, x):\n",
    "        h0 = torch.zeros(self.num_layers, x.size(0), self.hidden_size).to(x.device)\n",
    "        c0 = torch.zeros(self.num_layers, x.size(0), self.hidden_size).to(x.device)\n",
    "        out, _ = self.lstm(x, (h0, c0))\n",
    "        out = self.fc(out[:, -1, :])  # Take the last time step's output\n",
    "        return out"
   ]
  },
  {
   "cell_type": "markdown",
   "metadata": {},
   "source": [
    "# hyperparameters"
   ]
  },
  {
   "cell_type": "code",
   "execution_count": 173,
   "metadata": {},
   "outputs": [],
   "source": [
    "# Define hyperparameters\n",
    "input_size = len(all_sequences[0][0])  # Number of features in each sequence\n",
    "hidden_size = 128\n",
    "num_layers = 1\n",
    "output_size = num_classes  # Three classes for classification (0, 1, 2)\n",
    "\n",
    "# Create the classification model\n",
    "classification_model = LSTMClassificationModel(input_size, hidden_size, num_layers, output_size)\n",
    "\n",
    "# Define the loss function for multi-class classification\n",
    "criterion = nn.CrossEntropyLoss()\n",
    "\n",
    "# Define the optimizer\n",
    "optimizer = optim.Adam(classification_model.parameters(), lr=0.001)\n",
    "\n",
    "# Convert data to PyTorch tensors\n",
    "X_train = torch.tensor(X_train, dtype=torch.float)\n",
    "y_train = torch.tensor(y_train, dtype=torch.long)\n",
    "X_test = torch.tensor(X_test, dtype=torch.float)\n",
    "y_test = torch.tensor(y_test, dtype=torch.int)"
   ]
  },
  {
   "cell_type": "markdown",
   "metadata": {},
   "source": [
    "# Train"
   ]
  },
  {
   "cell_type": "code",
   "execution_count": 174,
   "metadata": {},
   "outputs": [
    {
     "name": "stdout",
     "output_type": "stream",
     "text": [
      "Improved precision for class 1: 0.5333\n",
      "Epoch [10/400], Loss: 0.6560\n",
      "Epoch [20/400], Loss: 0.6324\n",
      "Epoch [30/400], Loss: 0.6033\n",
      "Epoch [40/400], Loss: 0.5656\n",
      "Epoch [50/400], Loss: 0.5212\n",
      "Epoch [60/400], Loss: 0.4738\n",
      "Epoch [70/400], Loss: 0.4251\n",
      "Epoch [80/400], Loss: 0.3772\n",
      "Epoch [90/400], Loss: 0.3316\n",
      "Epoch [100/400], Loss: 0.2909\n",
      "Epoch [110/400], Loss: 0.2593\n",
      "Epoch [120/400], Loss: 0.2246\n",
      "Epoch [130/400], Loss: 0.2024\n",
      "Epoch [140/400], Loss: 0.1746\n",
      "Epoch [150/400], Loss: 0.1531\n",
      "Epoch [160/400], Loss: 0.1385\n",
      "Epoch [170/400], Loss: 0.1245\n",
      "Epoch [180/400], Loss: 0.1093\n",
      "Epoch [190/400], Loss: 0.1041\n",
      "Epoch [200/400], Loss: 0.0913\n",
      "Epoch [210/400], Loss: 0.0826\n",
      "Epoch [220/400], Loss: 0.0867\n",
      "Epoch [230/400], Loss: 0.0730\n",
      "Epoch [240/400], Loss: 0.0635\n",
      "Epoch [250/400], Loss: 0.0592\n",
      "Epoch [260/400], Loss: 0.0738\n",
      "Epoch [270/400], Loss: 0.0562\n",
      "Epoch [280/400], Loss: 0.0500\n",
      "Epoch [290/400], Loss: 0.0458\n",
      "Epoch [300/400], Loss: 0.0424\n",
      "Epoch [310/400], Loss: 0.0392\n",
      "Epoch [320/400], Loss: 0.0364\n",
      "Epoch [330/400], Loss: 0.0367\n",
      "Epoch [340/400], Loss: 0.0782\n",
      "Epoch [350/400], Loss: 0.0583\n",
      "Epoch [360/400], Loss: 0.0382\n",
      "Epoch [370/400], Loss: 0.0355\n",
      "Epoch [380/400], Loss: 0.0304\n",
      "Epoch [390/400], Loss: 0.0279\n",
      "Epoch [400/400], Loss: 0.0259\n"
     ]
    },
    {
     "data": {
      "text/plain": [
       "<All keys matched successfully>"
      ]
     },
     "execution_count": 174,
     "metadata": {},
     "output_type": "execute_result"
    }
   ],
   "source": [
    "# Train the classification model\n",
    "num_epochs = 400\n",
    "best_precision = 0.0  # Initialize the best precision for class 1\n",
    "best_model = None\n",
    "\n",
    "for epoch in range(num_epochs):\n",
    "    outputs = classification_model(X_train)\n",
    "    optimizer.zero_grad()\n",
    "    loss = criterion(outputs, y_train)\n",
    "    loss.backward()\n",
    "    optimizer.step()\n",
    "\n",
    "    if (epoch + 1) % 10 == 0:\n",
    "        print(f'Epoch [{epoch + 1}/{num_epochs}], Loss: {loss.item():.4f}')\n",
    "    \n",
    "    # Evaluate precision on class 1 (target = 1)\n",
    "    classification_model.eval()\n",
    "    with torch.no_grad():\n",
    "        test_outputs = classification_model(X_test)\n",
    "\n",
    "        # Apply softmax to obtain class probabilities\n",
    "        class_probs = torch.nn.functional.softmax(test_outputs, dim=1)\n",
    "        _, predicted = torch.max(test_outputs, 1)  # Get the predicted class labels\n",
    "\n",
    "        # Convert the predictions and class probabilities to numpy arrays\n",
    "        y_pred = predicted.cpu().numpy()\n",
    "        class_probs = class_probs.cpu().numpy()\n",
    "\n",
    "    # Calculate precision for class 1\n",
    "    precision_class_1 = precision_score(y_test, y_pred, labels=[1], average='macro')\n",
    "\n",
    "    # Check if precision for class 1 is better than the best seen so far\n",
    "    if precision_class_1 > best_precision:\n",
    "        best_precision = precision_class_1\n",
    "        best_model = classification_model.state_dict()\n",
    "        print(f'Improved precision for class 1: {best_precision:.4f}')\n",
    "\n",
    "# Use the best model with the highest precision for class 1\n",
    "classification_model.load_state_dict(best_model)"
   ]
  },
  {
   "cell_type": "markdown",
   "metadata": {},
   "source": [
    "# Evaluate"
   ]
  },
  {
   "cell_type": "code",
   "execution_count": 175,
   "metadata": {},
   "outputs": [],
   "source": [
    "# Evaluate the classification model on the test data\n",
    "classification_model.eval()\n",
    "with torch.no_grad():\n",
    "    test_outputs = classification_model(X_test)\n",
    "    _, predicted = torch.max(test_outputs, 1)  # Get the predicted class labels\n",
    "\n",
    "# Convert the predictions and true labels to numpy arrays\n",
    "y_pred = predicted.cpu().numpy()\n",
    "y_true = y_test.numpy()\n"
   ]
  },
  {
   "cell_type": "code",
   "execution_count": 176,
   "metadata": {},
   "outputs": [],
   "source": [
    "# Filter class_probs for examples where y_pred is equal to 1\n",
    "indices_class_1 = (y_pred == 1)  # Get indices where y_pred is equal to 1\n",
    "class_probs_class_1 = class_probs[indices_class_1]  # Filter class_probs\n",
    "\n",
    "# Create y_pred_mod based on class_probs_class_1\n",
    "y_pred_mod = np.zeros_like(y_pred)\n",
    "y_pred_mod[indices_class_1] = (class_probs_class_1[:, 1] > 0.9).astype(int)"
   ]
  },
  {
   "cell_type": "code",
   "execution_count": 177,
   "metadata": {},
   "outputs": [
    {
     "data": {
      "text/plain": [
       "array([False, False,  True, False,  True,  True,  True,  True, False,\n",
       "       False, False,  True,  True,  True,  True, False,  True, False,\n",
       "        True, False,  True,  True, False, False,  True,  True,  True,\n",
       "       False, False,  True,  True,  True, False,  True,  True, False,\n",
       "        True, False,  True, False, False,  True, False, False, False,\n",
       "        True,  True,  True, False, False,  True,  True,  True, False,\n",
       "        True, False, False, False,  True, False,  True,  True,  True,\n",
       "        True,  True,  True,  True,  True,  True, False, False, False,\n",
       "        True,  True,  True, False, False,  True, False, False,  True,\n",
       "       False, False,  True, False,  True,  True, False,  True,  True,\n",
       "        True,  True,  True,  True,  True,  True,  True,  True, False,\n",
       "       False,  True,  True,  True,  True,  True, False,  True, False,\n",
       "        True, False, False,  True, False, False,  True,  True,  True,\n",
       "        True,  True,  True,  True,  True,  True, False, False,  True,\n",
       "        True,  True,  True,  True,  True,  True,  True,  True, False,\n",
       "        True])"
      ]
     },
     "execution_count": 177,
     "metadata": {},
     "output_type": "execute_result"
    }
   ],
   "source": [
    "(class_probs_class_1[:, 1] > 0.9)"
   ]
  },
  {
   "cell_type": "markdown",
   "metadata": {},
   "source": [
    "# Metrics"
   ]
  },
  {
   "cell_type": "code",
   "execution_count": 178,
   "metadata": {},
   "outputs": [],
   "source": [
    "def metrics_form(y_true, y_pred):    \n",
    "    # Calculate classification metrics\n",
    "    accuracy = accuracy_score(y_true, y_pred)\n",
    "    precision = precision_score(y_true, y_pred, average='macro')\n",
    "    recall = recall_score(y_true, y_pred, average='macro')\n",
    "    f1 = f1_score(y_true, y_pred, average='macro')\n",
    "    confusion = confusion_matrix(y_true, y_pred)\n",
    "\n",
    "    print(f'Accuracy: {accuracy:.4f}')\n",
    "    print(f'Precision: {precision:.4f}')\n",
    "    print(f'Recall: {recall:.4f}')\n",
    "    print(f'F1-score: {f1:.4f}')\n",
    "    print('Confusion Matrix:')\n",
    "    print(confusion)"
   ]
  },
  {
   "cell_type": "code",
   "execution_count": 179,
   "metadata": {},
   "outputs": [
    {
     "name": "stdout",
     "output_type": "stream",
     "text": [
      "Accuracy: 0.5552\n",
      "Precision: 0.5395\n",
      "Recall: 0.5532\n",
      "F1-score: 0.5155\n",
      "Confusion Matrix:\n",
      "[[122  97]\n",
      " [ 32  39]]\n"
     ]
    }
   ],
   "source": [
    "# Calculate classification metrics\n",
    "metrics_form(y_true, y_pred)"
   ]
  },
  {
   "cell_type": "code",
   "execution_count": 180,
   "metadata": {},
   "outputs": [
    {
     "name": "stdout",
     "output_type": "stream",
     "text": [
      "Accuracy: 0.6103\n",
      "Precision: 0.5078\n",
      "Recall: 0.5088\n",
      "F1-score: 0.5066\n",
      "Confusion Matrix:\n",
      "[[155  64]\n",
      " [ 49  22]]\n"
     ]
    }
   ],
   "source": [
    "# Calculate classification metrics\n",
    "metrics_form(y_true, y_pred_mod)"
   ]
  },
  {
   "cell_type": "code",
   "execution_count": 181,
   "metadata": {},
   "outputs": [
    {
     "data": {
      "text/plain": [
       "0.2867647058823529"
      ]
     },
     "execution_count": 181,
     "metadata": {},
     "output_type": "execute_result"
    }
   ],
   "source": [
    "# Calculate precision for class 1\n",
    "precision_class_1 = precision_score(y_true, y_pred, labels=[1], average='macro')\n",
    "precision_class_1"
   ]
  },
  {
   "cell_type": "code",
   "execution_count": 182,
   "metadata": {},
   "outputs": [
    {
     "data": {
      "text/plain": [
       "0.2558139534883721"
      ]
     },
     "execution_count": 182,
     "metadata": {},
     "output_type": "execute_result"
    }
   ],
   "source": [
    "# Calculate precision for class 1\n",
    "precision_class_1 = precision_score(y_true, y_pred_mod, labels=[1], average='macro')\n",
    "precision_class_1"
   ]
  },
  {
   "cell_type": "code",
   "execution_count": 183,
   "metadata": {},
   "outputs": [
    {
     "data": {
      "text/plain": [
       "0.5492957746478874"
      ]
     },
     "execution_count": 183,
     "metadata": {},
     "output_type": "execute_result"
    }
   ],
   "source": [
    "# Calculate precision for class 1\n",
    "recall_class_1 = recall_score(y_true, y_pred, labels=[1], average='macro')\n",
    "recall_class_1"
   ]
  },
  {
   "cell_type": "code",
   "execution_count": 184,
   "metadata": {},
   "outputs": [
    {
     "data": {
      "text/plain": [
       "0.30985915492957744"
      ]
     },
     "execution_count": 184,
     "metadata": {},
     "output_type": "execute_result"
    }
   ],
   "source": [
    "# Calculate precision for class 1\n",
    "recall_class_1 = recall_score(y_true, y_pred_mod, labels=[1], average='macro')\n",
    "recall_class_1"
   ]
  },
  {
   "cell_type": "code",
   "execution_count": null,
   "metadata": {},
   "outputs": [],
   "source": []
  },
  {
   "cell_type": "code",
   "execution_count": null,
   "metadata": {},
   "outputs": [],
   "source": []
  }
 ],
 "metadata": {
  "kernelspec": {
   "display_name": "Python 3",
   "language": "python",
   "name": "python3"
  },
  "language_info": {
   "codemirror_mode": {
    "name": "ipython",
    "version": 3
   },
   "file_extension": ".py",
   "mimetype": "text/x-python",
   "name": "python",
   "nbconvert_exporter": "python",
   "pygments_lexer": "ipython3",
   "version": "3.9.7"
  },
  "orig_nbformat": 4
 },
 "nbformat": 4,
 "nbformat_minor": 2
}
