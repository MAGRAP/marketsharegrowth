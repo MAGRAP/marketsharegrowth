{
 "cells": [
  {
   "cell_type": "code",
   "execution_count": 1,
   "metadata": {},
   "outputs": [],
   "source": [
    "import streamlit as st\n",
    "import pandas as pd\n",
    "import numpy as np\n",
    "import yaml\n",
    "import pyodbc\n",
    "from market_growth_analysis.etl.stagging import *\n",
    "import pandas as pd\n",
    "import numpy as np\n",
    "import pyodbc\n",
    "import sqlalchemy\n",
    "from sqlalchemy import create_engine\n",
    "import sys\n",
    "import pandas as pd\n",
    "import matplotlib.pyplot as plt\n",
    "\n",
    "# sys.path.append('../conf') \n",
    "# Load the YAML file\n",
    "with open('../../conf/global.yml', 'r') as f:\n",
    "    columns = yaml.safe_load(f)\n",
    "\n",
    "# Load the YAML file\n",
    "with open('../../conf/local.yml', 'r') as f:\n",
    "    credentials = yaml.safe_load(f)\n",
    "\n",
    "\n",
    "# Get credentials\n",
    "driver = credentials['warehouse_db']['driver']\n",
    "server = credentials['warehouse_db']['server']\n",
    "database = credentials['warehouse_db']['database']\n",
    "trusted = credentials['warehouse_db']['trusted_connection']\n",
    "user = credentials['warehouse_db']['user']\n",
    "password = credentials['warehouse_db']['password']\n",
    "\n",
    "# Create connection db\n",
    "conn = pyodbc.connect('Driver={SQL Server};'\n",
    "                      f'Server={server};'\n",
    "                      f'Database={database};'\n",
    "                      'Trusted_Connection=yes;')\n",
    "cursor = conn.cursor()"
   ]
  },
  {
   "cell_type": "code",
   "execution_count": 2,
   "metadata": {},
   "outputs": [
    {
     "name": "stderr",
     "output_type": "stream",
     "text": [
      "C:\\Users\\germa\\AppData\\Local\\Temp/ipykernel_22240/764186177.py:11: UserWarning: pandas only supports SQLAlchemy connectable (engine/connection) or database string URI or sqlite3 DBAPI2 connection. Other DBAPI2 objects are not tested. Please consider using SQLAlchemy.\n",
      "  data = pd.read_sql(join_tables_query, conn)\n"
     ]
    }
   ],
   "source": [
    "# Get data\n",
    "join_tables_query = '''\n",
    "select *\n",
    "from DIM_COMPANY dim\n",
    "join FACT_BALANCE_SHEET bs on bs.ticker = dim.ticker\n",
    "join FACT_CASH_FLOW_STATEMENT cfs on cfs.PK = bs.PK\n",
    "join FACT_INCOME_STATEMENT fis on fis.PK = bs.PK\n",
    "join FACT_PRICES fp on fp.PK = bs.PK\n",
    "join FACT_RATIOS fr on fr.PK = bs.PK\n",
    "'''\n",
    "data = pd.read_sql(join_tables_query, conn)\n",
    "# drop duplicated columns\n",
    "data = data.T.drop_duplicates().T\n",
    "data['Date'] = pd.to_datetime(data['Date'], format=\"%Y/%m/%d\").dt.strftime(\"%Y/%m/%d\")\n"
   ]
  },
  {
   "cell_type": "code",
   "execution_count": 3,
   "metadata": {},
   "outputs": [
    {
     "data": {
      "text/plain": [
       "Index(['ticker', 'company_full_name', 'country', 'industry', 'sector', 'PK',\n",
       "       'Date', 'Cash On Hand', 'Receivables', 'Inventory', 'Pre-Paid Expenses',\n",
       "       'Other Current Assets', 'Total Current Assets',\n",
       "       'Property, Plant, And Equipment', 'Long-Term Investments',\n",
       "       'Goodwill And Intangible Assets', 'Other Long-Term Assets',\n",
       "       'Total Long-Term Assets', 'Total Assets', 'Total Current Liabilities',\n",
       "       'Long Term Debt', 'Other Non-Current Liabilities',\n",
       "       'Total Long Term Liabilities', 'Total Liabilities', 'Common Stock Net',\n",
       "       'Retained Earnings (Accumulated Deficit)', 'Comprehensive Income',\n",
       "       'Other Share Holders Equity', 'Share Holder Equity',\n",
       "       'Total Liabilities And Share Holders Equity', 'Net Income/Loss',\n",
       "       'Total Depreciation And Amortization - Cash Flow',\n",
       "       'Other Non-Cash Items', 'Total Non-Cash Items',\n",
       "       'Change In Accounts Receivable', 'Change In Inventories',\n",
       "       'Change In Accounts Payable', 'Change In Assets/Liabilities',\n",
       "       'Total Change In Assets/Liabilities',\n",
       "       'Cash Flow From Operating Activities',\n",
       "       'Net Change In Property, Plant, And Equipment',\n",
       "       'Net Change In Intangible Assets', 'Net Acquisitions/Divestitures',\n",
       "       'Net Change In Short-term Investments',\n",
       "       'Net Change In Long-Term Investments',\n",
       "       'Net Change In Investments - Total', 'Investing Activities - Other',\n",
       "       'Cash Flow From Investing Activities', 'Net Long-Term Debt',\n",
       "       'Net Current Debt', 'Debt Issuance/Retirement Net - Total',\n",
       "       'Net Common Equity Issued/Repurchased',\n",
       "       'Net Total Equity Issued/Repurchased',\n",
       "       'Total Common And Preferred Stock Dividends Paid',\n",
       "       'Financial Activities - Other', 'Cash Flow From Financial Activities',\n",
       "       'Net Cash Flow', 'Stock-Based Compensation',\n",
       "       'Common Stock Dividends Paid', 'Revenue', 'Cost Of Goods Sold',\n",
       "       'Gross Profit', 'Research And Development Expenses', 'SG&A Expenses',\n",
       "       'Other Operating Income Or Expenses', 'Operating Expenses',\n",
       "       'Operating Income', 'Total Non-Operating Income/Expense',\n",
       "       'Pre-Tax Income', 'Income Taxes', 'Income After Taxes', 'Other Income',\n",
       "       'Income From Continuous Operations',\n",
       "       'Income From Discontinued Operations', 'Net Income', 'EBITDA', 'EBIT',\n",
       "       'Basic Shares Outstanding', 'Shares Outstanding', 'Basic EPS',\n",
       "       'EPS - Earnings Per Share', 'longevity', 'Close', 'Volume', 'Growth -1',\n",
       "       'Growth +1', 'Growth +5', 'Growth -10', 'Growth -5',\n",
       "       'Enterprise Value (EV)', 'EV / Revenue', 'EV / EBITDA', 'EV / EBIT',\n",
       "       'EV / Invested Capital', 'Free Cash Flow (FCF)', 'EV / Free Cash Flow',\n",
       "       'P/E', 'P/S', 'P/CF'],\n",
       "      dtype='object')"
      ]
     },
     "execution_count": 3,
     "metadata": {},
     "output_type": "execute_result"
    }
   ],
   "source": [
    "data.columns"
   ]
  },
  {
   "cell_type": "code",
   "execution_count": 4,
   "metadata": {},
   "outputs": [
    {
     "data": {
      "text/plain": [
       "United States           39989\n",
       "Canada                   1557\n",
       "China                    1229\n",
       "Israel                    753\n",
       "United Kingdom            709\n",
       "Bermuda                   443\n",
       "Ireland                   354\n",
       "Brazil                    350\n",
       "Netherlands               194\n",
       "Hong Kong, SAR China      193\n",
       "Greece                    189\n",
       "Switzerland               189\n",
       "Argentina                 178\n",
       "Germany                   150\n",
       "South Korea               142\n",
       "Mexico                    142\n",
       "Japan                     129\n",
       "Singapore                 127\n",
       "India                     123\n",
       "Australia                 119\n",
       "Taiwan                    117\n",
       "Luxembourg                117\n",
       "France                    115\n",
       "Cayman Islands             94\n",
       "South Africa               94\n",
       "Chile                      86\n",
       "Colombia                   60\n",
       "Spain                      56\n",
       "Belgium                    54\n",
       "Peru                       53\n",
       "Sweden                     53\n",
       "Denmark                    45\n",
       "Italy                      42\n",
       "Panama                     28\n",
       "Turkey                     16\n",
       "Norway                     16\n",
       "Philippines                14\n",
       "Indonesia                  14\n",
       "Finland                    14\n",
       "Jersey                     10\n",
       "Bahamas                     6\n",
       "Russia                      4\n",
       "Name: country, dtype: int64"
      ]
     },
     "execution_count": 4,
     "metadata": {},
     "output_type": "execute_result"
    }
   ],
   "source": [
    "data['country'].value_counts()"
   ]
  },
  {
   "cell_type": "code",
   "execution_count": 5,
   "metadata": {},
   "outputs": [
    {
     "data": {
      "text/plain": [
       "Medical - Biomedical and Genetics        3573\n",
       "Medical - Drug Manufacturing             1682\n",
       "Technology Services                      1232\n",
       "Banks - Northeast                        1199\n",
       "REIT - Other Equity Trusts               1165\n",
       "                                         ... \n",
       "Nanotechnology Equipment and Services      11\n",
       "Electronics - Military Systems             11\n",
       "Retail - Mail Order & Direct                9\n",
       "Printing & Trade Machinery                  8\n",
       "Periodical Publishing                       2\n",
       "Name: industry, Length: 252, dtype: int64"
      ]
     },
     "execution_count": 5,
     "metadata": {},
     "output_type": "execute_result"
    }
   ],
   "source": [
    "data['industry'].value_counts()"
   ]
  },
  {
   "cell_type": "code",
   "execution_count": 6,
   "metadata": {},
   "outputs": [],
   "source": [
    "columns_to_study = columns['columns_prices'] + columns['columns_ratios'] + columns['column_id']"
   ]
  },
  {
   "cell_type": "code",
   "execution_count": 7,
   "metadata": {},
   "outputs": [],
   "source": [
    "industry = 'Technology Services'\n",
    "\n",
    "data_filtered_industry = data[(data['industry'] == industry)&(data['country'] == 'United States')]"
   ]
  },
  {
   "cell_type": "code",
   "execution_count": 8,
   "metadata": {},
   "outputs": [
    {
     "data": {
      "text/plain": [
       "170"
      ]
     },
     "execution_count": 8,
     "metadata": {},
     "output_type": "execute_result"
    }
   ],
   "source": [
    "len(data_filtered_industry['ticker'].unique())"
   ]
  },
  {
   "cell_type": "code",
   "execution_count": 9,
   "metadata": {},
   "outputs": [],
   "source": [
    "data_to_study = data_filtered_industry[columns_to_study]"
   ]
  },
  {
   "cell_type": "code",
   "execution_count": 10,
   "metadata": {},
   "outputs": [],
   "source": [
    "data_to_study = data_to_study.dropna(subset='Growth +5')"
   ]
  },
  {
   "cell_type": "code",
   "execution_count": 11,
   "metadata": {},
   "outputs": [],
   "source": [
    "data_to_study_filled = data_to_study.fillna(value=0)"
   ]
  },
  {
   "cell_type": "code",
   "execution_count": 12,
   "metadata": {},
   "outputs": [
    {
     "data": {
      "text/plain": [
       "Index(['longevity', 'Close', 'Volume', 'Growth -1', 'Growth +1', 'Growth +5',\n",
       "       'Growth -10', 'Growth -5', 'Enterprise Value (EV)', 'EV / Revenue',\n",
       "       'EV / EBITDA', 'EV / EBIT', 'EV / Invested Capital',\n",
       "       'Free Cash Flow (FCF)', 'EV / Free Cash Flow', 'P/E', 'P/S', 'P/CF',\n",
       "       'PK', 'ticker', 'Date'],\n",
       "      dtype='object')"
      ]
     },
     "execution_count": 12,
     "metadata": {},
     "output_type": "execute_result"
    }
   ],
   "source": [
    "data_to_study_filled.columns"
   ]
  },
  {
   "cell_type": "code",
   "execution_count": 13,
   "metadata": {},
   "outputs": [],
   "source": [
    "columns_to_drop = ['Growth +1', \n",
    "                #    'Date', \n",
    "                #    'ticker', \n",
    "                   'Close', \n",
    "                   'Volume', \n",
    "                   'longevity', \n",
    "                   'Enterprise Value (EV)', \n",
    "                   'Free Cash Flow (FCF)', \n",
    "                   'EV / EBITDA', \n",
    "                   'Growth -5', \n",
    "                   'Growth -1', \n",
    "                   'Growth -10',\n",
    "                   'EV / Free Cash Flow',\n",
    "                   'EV / Invested Capital'\n",
    "                   ]\n",
    "data_to_study_filled_drop = data_to_study_filled.drop(columns=columns_to_drop)\n",
    "data_to_study_filled_drop = data_to_study_filled_drop.set_index(keys='PK')"
   ]
  },
  {
   "cell_type": "code",
   "execution_count": 14,
   "metadata": {},
   "outputs": [
    {
     "data": {
      "text/plain": [
       "PK\n",
       "1950     106.206894\n",
       "1957      -0.865800\n",
       "1949      95.422036\n",
       "1954      46.266470\n",
       "1955     -16.789299\n",
       "            ...    \n",
       "30522    -59.002691\n",
       "30523    -63.808759\n",
       "30524    -42.004444\n",
       "26679    -59.218752\n",
       "26680     19.404070\n",
       "Name: Growth +5, Length: 334, dtype: float64"
      ]
     },
     "execution_count": 14,
     "metadata": {},
     "output_type": "execute_result"
    }
   ],
   "source": [
    "data_to_study_filled_drop['Growth +5']*100"
   ]
  },
  {
   "cell_type": "code",
   "execution_count": 15,
   "metadata": {},
   "outputs": [
    {
     "data": {
      "text/plain": [
       "count     334.000000\n",
       "mean      110.025355\n",
       "std       440.677658\n",
       "min       -99.999800\n",
       "25%       -56.975394\n",
       "50%        -0.431504\n",
       "75%        90.979180\n",
       "max      3649.999944\n",
       "Name: Growth +5, dtype: float64"
      ]
     },
     "execution_count": 15,
     "metadata": {},
     "output_type": "execute_result"
    }
   ],
   "source": [
    "(data_to_study_filled_drop['Growth +5']*100).describe()"
   ]
  },
  {
   "cell_type": "code",
   "execution_count": 16,
   "metadata": {},
   "outputs": [
    {
     "data": {
      "image/png": "[encoded data removed]",
      "text/plain": [
       "<Figure size 432x288 with 1 Axes>"
      ]
     },
     "metadata": {
      "needs_background": "light"
     },
     "output_type": "display_data"
    }
   ],
   "source": [
    "import matplotlib.pyplot as plt\n",
    "\n",
    "# Assuming data_to_study_filled_drop is your DataFrame\n",
    "plt.boxplot(data_to_study_filled_drop['Growth +5'], showfliers=False)\n",
    "plt.title('Boxplot of Growth +5 (Without Outliers)')\n",
    "plt.ylabel('Values')\n",
    "plt.show()\n"
   ]
  },
  {
   "cell_type": "code",
   "execution_count": 17,
   "metadata": {},
   "outputs": [
    {
     "data": {
      "text/plain": [
       "2"
      ]
     },
     "execution_count": 17,
     "metadata": {},
     "output_type": "execute_result"
    }
   ],
   "source": [
    "# data_to_study_filled_drop['target'] = data_to_study_filled_drop['Growth +5'] > 0\n",
    "# data_to_study_filled_drop['target'] = data_to_study_filled_drop['target'].astype(int)\n",
    "\n",
    "import pandas as pd\n",
    "import numpy as np\n",
    "\n",
    "# Assuming you have a DataFrame named data_to_study_final\n",
    "# data_to_study_filled_drop['target'] = np.where(data_to_study_filled_drop['Growth +5'] < 0, 0, \n",
    "#                         np.where(data_to_study_filled_drop['Growth +5'] <= data_to_study_filled_drop['Growth +5'].quantile(0.9), 1, 2))\n",
    "\n",
    "data_to_study_filled_drop['target'] = np.where(data_to_study_filled_drop['Growth +5'] < 0, 0, 1)\n",
    "\n",
    "# data_to_study_filled_drop['target'] = np.where(data_to_study_filled_drop['Growth +5'] < 0, 0, \n",
    "#                                     np.where(data_to_study_filled_drop['Growth +5'] < 2.5, 1, 2))\n",
    "\n",
    "num_classes = len(data_to_study_filled_drop['target'].unique())\n",
    "num_classes"
   ]
  },
  {
   "cell_type": "code",
   "execution_count": 18,
   "metadata": {},
   "outputs": [
    {
     "data": {
      "text/plain": [
       "1    167\n",
       "0    167\n",
       "Name: target, dtype: int64"
      ]
     },
     "execution_count": 18,
     "metadata": {},
     "output_type": "execute_result"
    }
   ],
   "source": [
    "data_to_study_filled_drop['target'].value_counts()"
   ]
  },
  {
   "cell_type": "code",
   "execution_count": 19,
   "metadata": {},
   "outputs": [
    {
     "data": {
      "text/plain": [
       "2.8773593254170655"
      ]
     },
     "execution_count": 19,
     "metadata": {},
     "output_type": "execute_result"
    }
   ],
   "source": [
    "data_to_study_filled_drop['Growth +5'].quantile(0.9)"
   ]
  },
  {
   "cell_type": "code",
   "execution_count": 20,
   "metadata": {},
   "outputs": [],
   "source": [
    "# data_to_study_final = data_to_study_filled_drop.drop(columns='Growth +5')\n",
    "data_to_study_final = data_to_study_filled_drop"
   ]
  },
  {
   "cell_type": "code",
   "execution_count": 21,
   "metadata": {},
   "outputs": [
    {
     "data": {
      "text/plain": [
       "(334, 9)"
      ]
     },
     "execution_count": 21,
     "metadata": {},
     "output_type": "execute_result"
    }
   ],
   "source": [
    "data_to_study_final.shape"
   ]
  },
  {
   "cell_type": "code",
   "execution_count": 22,
   "metadata": {},
   "outputs": [
    {
     "data": {
      "text/plain": [
       "1    167\n",
       "0    167\n",
       "Name: target, dtype: int64"
      ]
     },
     "execution_count": 22,
     "metadata": {},
     "output_type": "execute_result"
    }
   ],
   "source": [
    "data_to_study_final['target'].value_counts()"
   ]
  },
  {
   "cell_type": "markdown",
   "metadata": {},
   "source": [
    "# Create LSTM Model"
   ]
  },
  {
   "cell_type": "code",
   "execution_count": 23,
   "metadata": {},
   "outputs": [],
   "source": [
    "import pandas as pd\n",
    "from sklearn.model_selection import train_test_split\n",
    "from sklearn.svm import SVC\n",
    "from sklearn.metrics import accuracy_score, classification_report, confusion_matrix\n",
    "import matplotlib.pyplot as plt\n",
    "import seaborn as sns"
   ]
  },
  {
   "cell_type": "code",
   "execution_count": 24,
   "metadata": {},
   "outputs": [],
   "source": [
    "import pandas as pd\n",
    "import numpy as np\n",
    "import torch\n",
    "import torch.nn as nn\n",
    "import torch.optim as optim\n",
    "from sklearn.model_selection import train_test_split\n",
    "from sklearn.preprocessing import MinMaxScaler\n",
    "from sklearn.preprocessing import LabelEncoder"
   ]
  },
  {
   "cell_type": "markdown",
   "metadata": {},
   "source": [
    "## Prepare Data"
   ]
  },
  {
   "cell_type": "code",
   "execution_count": 79,
   "metadata": {},
   "outputs": [],
   "source": [
    "# Load your financial data into a DataFrame (replace 'your_data.csv' with your dataset)\n",
    "df = data_to_study_final.copy()\n",
    "\n",
    "# Define the sequence length and other hyperparameters\n",
    "n_steps = 3 # years to study prior\n",
    "# n_features = len(df.columns) - 1  # Replace with the number of feature columns in your dataset\n",
    "num_companies = len(df['ticker'].unique())  # Assuming you have a 'ticker' column\n",
    "\n",
    "# Use LabelEncoder to convert 'ticker' values to numerical labels\n",
    "label_encoder = LabelEncoder()\n",
    "df['ticker'] = label_encoder.fit_transform(df['ticker'])\n",
    "\n",
    "# Prepare an empty list to store sequences for all companies\n",
    "all_sequences = []\n",
    "all_targets = []  # To store the corresponding target values\n",
    "all_sequences_train = []\n",
    "all_sequences_test = []\n",
    "all_targets_train = []  # To store the corresponding target values\n",
    "all_targets_test = []  # To store the corresponding target values\n",
    "all_info_rows_test = []\n",
    "all_info_rows_train = []\n",
    "\n",
    "# Define the percentage of data to allocate for testing\n",
    "test_size = 0.2\n",
    "\n",
    "# Iterate through unique company labels\n",
    "for label in df['ticker'].unique():\n",
    "    # Filter data for the current company label\n",
    "    company_data = df[df['ticker'] == label]\n",
    "\n",
    "    # Sort data by date\n",
    "    company_data_complete = company_data.sort_values(by='Date')\n",
    "    company_data = company_data.sort_values(by='Date').drop(columns=['Date', 'ticker', 'Growth +5'])\n",
    "    n_features = len(company_data.columns) - 1 \n",
    "    # Create sequences for the current company\n",
    "    sequences = []\n",
    "    targets = []  # To store the corresponding target values\n",
    "    info_rows = []\n",
    "    sequences_train = []\n",
    "    sequences_test = []\n",
    "    targets_train = []\n",
    "    targets_test = []\n",
    "    for i in range(len(company_data) - n_steps + 1):\n",
    "        sequence = company_data.iloc[i:i + n_steps, 0:n_features].values  # Adjust column indices\n",
    "        target = company_data.iloc[i + n_steps - 1, n_features]  # Assuming the target column is the last one\n",
    "        info_row = company_data_complete.iloc[i + n_steps - 1]\n",
    "        sequences.append(sequence)\n",
    "        targets.append(target)\n",
    "        info_rows.append(info_row)\n",
    "\n",
    "    # Calculate the index to split the data\n",
    "    split_index = int(len(targets) * (1 - test_size))\n",
    "\n",
    "    # Split the data into training and testing sets\n",
    "    sequences_train = sequences[:split_index]\n",
    "    sequences_test = sequences[split_index:]\n",
    "    targets_train = targets[:split_index]\n",
    "    targets_test = targets[split_index:]\n",
    "    info_rows_train = info_rows[:split_index]\n",
    "    info_rows_test = info_rows[split_index:]\n",
    "\n",
    "    # Append sequences and corresponding targets to the lists\n",
    "    all_sequences.extend(sequences)\n",
    "    all_targets.extend(targets)\n",
    "    # Append sequences and corresponding targets to the lists\n",
    "    all_sequences_train.extend(sequences_train)\n",
    "    all_sequences_test.extend(sequences_test)\n",
    "    all_targets_train.extend(targets_train)\n",
    "    all_targets_test.extend(targets_test)\n",
    "    all_info_rows_train.extend(info_rows_train)\n",
    "    all_info_rows_test.extend(info_rows_test)"
   ]
  },
  {
   "cell_type": "code",
   "execution_count": 83,
   "metadata": {},
   "outputs": [
    {
     "data": {
      "text/plain": [
       "Growth +5         0.998726\n",
       "EV / Revenue      0.686037\n",
       "EV / EBIT        17.652705\n",
       "P/E              28.035714\n",
       "P/S               0.825721\n",
       "P/CF             43.514024\n",
       "ticker                   3\n",
       "Date            2011/01/31\n",
       "target                   1\n",
       "Name: 1951, dtype: object"
      ]
     },
     "execution_count": 83,
     "metadata": {},
     "output_type": "execute_result"
    }
   ],
   "source": [
    "all_info_rows_train[0]"
   ]
  },
  {
   "cell_type": "code",
   "execution_count": 74,
   "metadata": {},
   "outputs": [
    {
     "data": {
      "text/plain": [
       "3"
      ]
     },
     "execution_count": 74,
     "metadata": {},
     "output_type": "execute_result"
    }
   ],
   "source": [
    "n_steps"
   ]
  },
  {
   "cell_type": "code",
   "execution_count": 72,
   "metadata": {},
   "outputs": [
    {
     "data": {
      "text/plain": [
       "1"
      ]
     },
     "execution_count": 72,
     "metadata": {},
     "output_type": "execute_result"
    }
   ],
   "source": [
    "company_data.iloc[i + n_steps - 1, n_features]"
   ]
  },
  {
   "cell_type": "code",
   "execution_count": 77,
   "metadata": {},
   "outputs": [
    {
     "data": {
      "text/plain": [
       "[1, 2, 3]"
      ]
     },
     "execution_count": 77,
     "metadata": {},
     "output_type": "execute_result"
    }
   ],
   "source": [
    "new_list = []\n",
    "new_list.append([1,2,3])\n",
    "new_list.append([2,3,4,3])\n",
    "new_list[0]"
   ]
  },
  {
   "cell_type": "code",
   "execution_count": 71,
   "metadata": {},
   "outputs": [
    {
     "data": {
      "text/plain": [
       "9"
      ]
     },
     "execution_count": 71,
     "metadata": {},
     "output_type": "execute_result"
    }
   ],
   "source": [
    "len(company_data)"
   ]
  },
  {
   "cell_type": "code",
   "execution_count": 70,
   "metadata": {},
   "outputs": [
    {
     "data": {
      "text/plain": [
       "range(0, 7)"
      ]
     },
     "execution_count": 70,
     "metadata": {},
     "output_type": "execute_result"
    }
   ],
   "source": [
    "range(len(company_data) - n_steps + 1)"
   ]
  },
  {
   "cell_type": "code",
   "execution_count": 54,
   "metadata": {},
   "outputs": [
    {
     "data": {
      "text/plain": [
       "168"
      ]
     },
     "execution_count": 54,
     "metadata": {},
     "output_type": "execute_result"
    }
   ],
   "source": [
    "len(all_sequences_train)"
   ]
  },
  {
   "cell_type": "code",
   "execution_count": 78,
   "metadata": {},
   "outputs": [
    {
     "data": {
      "text/plain": [
       "Growth +5         0.998726\n",
       "EV / Revenue      0.686037\n",
       "EV / EBIT        17.652705\n",
       "P/E              28.035714\n",
       "P/S               0.825721\n",
       "P/CF             43.514024\n",
       "ticker                   3\n",
       "Date            2011/01/31\n",
       "target                   1\n",
       "Name: 1951, dtype: object"
      ]
     },
     "execution_count": 78,
     "metadata": {},
     "output_type": "execute_result"
    }
   ],
   "source": [
    "all_info_rows_train[0]"
   ]
  },
  {
   "cell_type": "code",
   "execution_count": 62,
   "metadata": {},
   "outputs": [
    {
     "data": {
      "text/plain": [
       "array([[ 0.57760117,  8.96245694, 17.47499943,  0.72428571,  7.47553787],\n",
       "       [ 0.62405964, 11.91464905, 19.07894737,  0.83504083,  9.14058226],\n",
       "       [ 0.68603738, 17.65270455, 28.03571395,  0.8257212 , 43.5140244 ]])"
      ]
     },
     "execution_count": 62,
     "metadata": {},
     "output_type": "execute_result"
    }
   ],
   "source": [
    "all_sequences_train[0]"
   ]
  },
  {
   "cell_type": "code",
   "execution_count": 63,
   "metadata": {},
   "outputs": [
    {
     "data": {
      "text/plain": [
       "1"
      ]
     },
     "execution_count": 63,
     "metadata": {},
     "output_type": "execute_result"
    }
   ],
   "source": [
    "all_targets_train[0]"
   ]
  },
  {
   "cell_type": "markdown",
   "metadata": {},
   "source": [
    "# Split train test"
   ]
  },
  {
   "cell_type": "code",
   "execution_count": 26,
   "metadata": {},
   "outputs": [],
   "source": [
    "from sklearn.model_selection import train_test_split\n",
    "\n",
    "# Define the percentage of data to allocate for testing\n",
    "test_size = 0.2\n",
    "\n",
    "# Calculate the index to split the data\n",
    "split_index = int(len(all_targets) * (1 - test_size))\n",
    "\n",
    "# Split the data into training and testing sets\n",
    "X_train, X_test = all_sequences_train, all_sequences_test\n",
    "y_train, y_test = all_targets_train, all_targets_test\n",
    "\n",
    "train_all_info, test_all_info = all_info_rows_train, all_info_rows_test"
   ]
  },
  {
   "cell_type": "markdown",
   "metadata": {},
   "source": [
    "## Create Model"
   ]
  },
  {
   "cell_type": "code",
   "execution_count": 27,
   "metadata": {},
   "outputs": [],
   "source": [
    "import torch\n",
    "import torch.nn as nn\n",
    "import torch.optim as optim\n",
    "from sklearn.metrics import accuracy_score, precision_score, recall_score, f1_score, confusion_matrix\n",
    "\n",
    "# Define the LSTM model for classification\n",
    "class LSTMClassificationModel(nn.Module):\n",
    "    def __init__(self, input_size, hidden_size, num_layers, output_size):\n",
    "        super(LSTMClassificationModel, self).__init__()\n",
    "        self.hidden_size = hidden_size\n",
    "        self.num_layers = num_layers\n",
    "        self.lstm = nn.LSTM(input_size, hidden_size, num_layers, batch_first=True)\n",
    "        self.fc = nn.Linear(hidden_size, output_size)\n",
    "\n",
    "    def forward(self, x):\n",
    "        h0 = torch.zeros(self.num_layers, x.size(0), self.hidden_size).to(x.device)\n",
    "        c0 = torch.zeros(self.num_layers, x.size(0), self.hidden_size).to(x.device)\n",
    "        out, _ = self.lstm(x, (h0, c0))\n",
    "        out = self.fc(out[:, -1, :])  # Take the last time step's output\n",
    "        return out"
   ]
  },
  {
   "cell_type": "markdown",
   "metadata": {},
   "source": [
    "# hyperparameters"
   ]
  },
  {
   "cell_type": "code",
   "execution_count": 28,
   "metadata": {},
   "outputs": [
    {
     "name": "stderr",
     "output_type": "stream",
     "text": [
      "C:\\Users\\germa\\AppData\\Local\\Temp/ipykernel_22240/282800018.py:17: UserWarning: Creating a tensor from a list of numpy.ndarrays is extremely slow. Please consider converting the list to a single numpy.ndarray with numpy.array() before converting to a tensor. (Triggered internally at  C:\\actions-runner\\_work\\pytorch\\pytorch\\builder\\windows\\pytorch\\torch\\csrc\\utils\\tensor_new.cpp:204.)\n",
      "  X_train = torch.tensor(X_train, dtype=torch.float)\n"
     ]
    }
   ],
   "source": [
    "# Define hyperparameters\n",
    "input_size = len(all_sequences[0][0])  # Number of features in each sequence\n",
    "hidden_size = 32\n",
    "num_layers = 1\n",
    "output_size = num_classes  # Three classes for classification (0, 1, 2)\n",
    "\n",
    "# Create the classification model\n",
    "classification_model = LSTMClassificationModel(input_size, hidden_size, num_layers, output_size)\n",
    "\n",
    "# Define the loss function for multi-class classification\n",
    "criterion = nn.CrossEntropyLoss()\n",
    "\n",
    "# Define the optimizer\n",
    "optimizer = optim.Adam(classification_model.parameters(), lr=0.001)\n",
    "\n",
    "# Convert data to PyTorch tensors\n",
    "X_train = torch.tensor(X_train, dtype=torch.float)\n",
    "y_train = torch.tensor(y_train, dtype=torch.long)\n",
    "X_test = torch.tensor(X_test, dtype=torch.float)\n",
    "y_test = torch.tensor(y_test, dtype=torch.int)"
   ]
  },
  {
   "cell_type": "markdown",
   "metadata": {},
   "source": [
    "# Train"
   ]
  },
  {
   "cell_type": "code",
   "execution_count": 29,
   "metadata": {},
   "outputs": [
    {
     "name": "stdout",
     "output_type": "stream",
     "text": [
      "Improved precision for class 1: 0.5000\n",
      "Improved precision for class 1: 0.5152\n",
      "Improved precision for class 1: 0.5294\n",
      "Improved precision for class 1: 0.5455\n",
      "Epoch [10/200], Loss: 0.6545\n",
      "Improved precision for class 1: 0.5484\n",
      "Improved precision for class 1: 0.5667\n",
      "Improved precision for class 1: 0.5926\n",
      "Epoch [20/200], Loss: 0.6178\n",
      "Improved precision for class 1: 0.6154\n",
      "Epoch [30/200], Loss: 0.5807\n",
      "Epoch [40/200], Loss: 0.5413\n",
      "Epoch [50/200], Loss: 0.4982\n",
      "Improved precision for class 1: 0.6667\n",
      "Epoch [60/200], Loss: 0.4498\n",
      "Epoch [70/200], Loss: 0.4014\n",
      "Epoch [80/200], Loss: 0.3529\n",
      "Epoch [90/200], Loss: 0.3054\n",
      "Improved precision for class 1: 0.6818\n",
      "Epoch [100/200], Loss: 0.2621\n",
      "Improved precision for class 1: 0.7143\n",
      "Improved precision for class 1: 0.7500\n",
      "Epoch [110/200], Loss: 0.2259\n",
      "Improved precision for class 1: 0.7895\n",
      "Epoch [120/200], Loss: 0.1944\n",
      "Epoch [130/200], Loss: 0.1665\n",
      "Epoch [140/200], Loss: 0.1405\n",
      "Epoch [150/200], Loss: 0.1182\n",
      "Epoch [160/200], Loss: 0.0998\n",
      "Epoch [170/200], Loss: 0.0850\n",
      "Epoch [180/200], Loss: 0.0734\n",
      "Epoch [190/200], Loss: 0.0644\n",
      "Epoch [200/200], Loss: 0.0571\n"
     ]
    },
    {
     "data": {
      "text/plain": [
       "<All keys matched successfully>"
      ]
     },
     "execution_count": 29,
     "metadata": {},
     "output_type": "execute_result"
    }
   ],
   "source": [
    "# Train the classification model\n",
    "num_epochs = 200\n",
    "best_precision = 0.0  # Initialize the best precision for class 1\n",
    "best_model = None\n",
    "\n",
    "for epoch in range(num_epochs):\n",
    "    outputs = classification_model(X_train)\n",
    "    optimizer.zero_grad()\n",
    "    loss = criterion(outputs, y_train)\n",
    "    loss.backward()\n",
    "    optimizer.step()\n",
    "\n",
    "    if (epoch + 1) % 10 == 0:\n",
    "        print(f'Epoch [{epoch + 1}/{num_epochs}], Loss: {loss.item():.4f}')\n",
    "    \n",
    "    # Evaluate precision on class 1 (target = 1)\n",
    "    classification_model.eval()\n",
    "    with torch.no_grad():\n",
    "        test_outputs = classification_model(X_test)\n",
    "\n",
    "        # Apply softmax to obtain class probabilities\n",
    "        class_probs = torch.nn.functional.softmax(test_outputs, dim=1)\n",
    "        _, predicted = torch.max(test_outputs, 1)  # Get the predicted class labels\n",
    "\n",
    "        # Convert the predictions and class probabilities to numpy arrays\n",
    "        y_pred = predicted.cpu().numpy()\n",
    "        class_probs = class_probs.cpu().numpy()\n",
    "\n",
    "    # Calculate precision for class 1\n",
    "    precision_class_1 = precision_score(y_test, y_pred, labels=[1], average='macro')\n",
    "\n",
    "    # Check if precision for class 1 is better than the best seen so far\n",
    "    if precision_class_1 > best_precision:\n",
    "        best_precision = precision_class_1\n",
    "        best_model = classification_model.state_dict()\n",
    "        print(f'Improved precision for class 1: {best_precision:.4f}')\n",
    "\n",
    "# Use the best model with the highest precision for class 1\n",
    "classification_model.load_state_dict(best_model)"
   ]
  },
  {
   "cell_type": "markdown",
   "metadata": {},
   "source": [
    "# Evaluate"
   ]
  },
  {
   "cell_type": "code",
   "execution_count": 30,
   "metadata": {},
   "outputs": [],
   "source": [
    "# Evaluate the classification model on the test data\n",
    "classification_model.eval()\n",
    "with torch.no_grad():\n",
    "    test_outputs = classification_model(X_test)\n",
    "    _, predicted = torch.max(test_outputs, 1)  # Get the predicted class labels\n",
    "\n",
    "# Convert the predictions and true labels to numpy arrays\n",
    "y_pred = predicted.cpu().numpy()\n",
    "y_true = y_test.numpy()\n"
   ]
  },
  {
   "cell_type": "code",
   "execution_count": 31,
   "metadata": {},
   "outputs": [],
   "source": [
    "# Filter class_probs for examples where y_pred is equal to 1\n",
    "indices_class_1 = (y_pred == 1)  # Get indices where y_pred is equal to 1\n",
    "class_probs_class_1 = class_probs[indices_class_1]  # Filter class_probs\n",
    "\n",
    "# Create y_pred_mod based on class_probs_class_1\n",
    "y_pred_mod = np.zeros_like(y_pred)\n",
    "y_pred_mod[indices_class_1] = (class_probs_class_1[:, 1] > 0.9).astype(int)"
   ]
  },
  {
   "cell_type": "code",
   "execution_count": 32,
   "metadata": {},
   "outputs": [
    {
     "data": {
      "text/plain": [
       "array([ True,  True,  True,  True, False,  True,  True,  True,  True,\n",
       "       False, False, False, False, False,  True, False,  True,  True,\n",
       "       False,  True])"
      ]
     },
     "execution_count": 32,
     "metadata": {},
     "output_type": "execute_result"
    }
   ],
   "source": [
    "(class_probs_class_1[:, 1] > 0.9)"
   ]
  },
  {
   "cell_type": "code",
   "execution_count": 33,
   "metadata": {},
   "outputs": [
    {
     "data": {
      "text/plain": [
       "[Growth +5        -0.008658\n",
       " EV / Revenue      0.947251\n",
       " EV / EBIT        14.847145\n",
       " P/E              24.749999\n",
       " P/S               1.066024\n",
       " P/CF             15.093904\n",
       " ticker                   3\n",
       " Date            2017/01/31\n",
       " target                   0\n",
       " Name: 1957, dtype: object,\n",
       " Growth +5        -0.018519\n",
       " EV / Revenue      1.249376\n",
       " EV / EBIT        26.178954\n",
       " P/E              28.723404\n",
       " P/S               0.835112\n",
       " P/CF             25.430317\n",
       " ticker                   3\n",
       " Date            2018/01/31\n",
       " target                   0\n",
       " Name: 1958, dtype: object,\n",
       " Growth +5         0.125869\n",
       " EV / Revenue      1.224189\n",
       " EV / EBIT         8.781134\n",
       " P/E              10.911946\n",
       " P/S               0.671856\n",
       " P/CF              5.895407\n",
       " ticker                  11\n",
       " Date            2017/12/31\n",
       " target                   1\n",
       " Name: 11962, dtype: object,\n",
       " Growth +5          5.35307\n",
       " EV / Revenue      3.090306\n",
       " EV / EBIT       -18.885432\n",
       " P/E              81.139495\n",
       " P/S               4.412454\n",
       " P/CF            -16.417479\n",
       " ticker                   7\n",
       " Date            2017/12/31\n",
       " target                   1\n",
       " Name: 8220, dtype: object,\n",
       " Growth +5        -0.965293\n",
       " EV / Revenue      2.126046\n",
       " EV / EBIT       -30.394627\n",
       " P/E             -27.117648\n",
       " P/S               1.953887\n",
       " P/CF            -27.333511\n",
       " ticker                  17\n",
       " Date            2017/12/31\n",
       " target                   0\n",
       " Name: 21869, dtype: object,\n",
       " Growth +5         0.485423\n",
       " EV / Revenue      2.589832\n",
       " EV / EBIT         21.78542\n",
       " P/E              23.175675\n",
       " P/S               2.276219\n",
       " P/CF             18.653386\n",
       " ticker                  10\n",
       " Date            2017/06/30\n",
       " target                   1\n",
       " Name: 10253, dtype: object,\n",
       " Growth +5         0.468623\n",
       " EV / Revenue      2.118289\n",
       " EV / EBIT        -25.13246\n",
       " P/E              -5.613066\n",
       " P/S               0.850654\n",
       " P/CF              2.158806\n",
       " ticker                   1\n",
       " Date            2017/12/31\n",
       " target                   1\n",
       " Name: 761, dtype: object,\n",
       " Growth +5           -0.948\n",
       " EV / Revenue      1.592429\n",
       " EV / EBIT        -8.176672\n",
       " P/E              -0.513347\n",
       " P/S               0.248127\n",
       " P/CF              3.333921\n",
       " ticker                   0\n",
       " Date            2017/06/30\n",
       " target                   0\n",
       " Name: 747, dtype: object,\n",
       " Growth +5        -0.028941\n",
       " EV / Revenue      1.515889\n",
       " EV / EBIT        27.040709\n",
       " P/E              39.489797\n",
       " P/S               1.412994\n",
       " P/CF            -22.235675\n",
       " ticker                   2\n",
       " Date            2017/12/31\n",
       " target                   0\n",
       " Name: 900, dtype: object,\n",
       " Growth +5        -0.999998\n",
       " EV / Revenue     11.797967\n",
       " EV / EBIT        -3.088822\n",
       " P/E              -0.045563\n",
       " P/S               0.248127\n",
       " P/CF                   0.0\n",
       " ticker                  18\n",
       " Date            2017/12/31\n",
       " target                   0\n",
       " Name: 22487, dtype: object,\n",
       " Growth +5        -0.984372\n",
       " EV / Revenue     17.366994\n",
       " EV / EBIT        -6.500063\n",
       " P/E                 -8.425\n",
       " P/S              20.451913\n",
       " P/CF            -13.282753\n",
       " ticker                   5\n",
       " Date            2017/12/31\n",
       " target                   0\n",
       " Name: 7007, dtype: object,\n",
       " Growth +5          1.09285\n",
       " EV / Revenue      3.648788\n",
       " EV / EBIT        53.233895\n",
       " P/E              17.055749\n",
       " P/S               2.246191\n",
       " P/CF             22.466536\n",
       " ticker                  20\n",
       " Date            2017/12/31\n",
       " target                   1\n",
       " Name: 22821, dtype: object,\n",
       " Growth +5         5.185714\n",
       " EV / Revenue     27.277606\n",
       " EV / EBIT        -4.157738\n",
       " P/E                   -2.8\n",
       " P/S              27.130974\n",
       " P/CF             -5.491502\n",
       " ticker                   6\n",
       " Date            2017/11/30\n",
       " target                   1\n",
       " Name: 7346, dtype: object,\n",
       " Growth +5         0.888024\n",
       " EV / Revenue       0.82359\n",
       " EV / EBIT        16.925804\n",
       " P/E              14.778762\n",
       " P/S               0.447124\n",
       " P/CF            -35.523653\n",
       " ticker                   8\n",
       " Date            2017/12/31\n",
       " target                   1\n",
       " Name: 9460, dtype: object,\n",
       " Growth +5        -0.662735\n",
       " EV / Revenue      2.141253\n",
       " EV / EBIT        26.751011\n",
       " P/E              81.139495\n",
       " P/S               1.149023\n",
       " P/CF              8.492829\n",
       " ticker                  16\n",
       " Date            2017/12/31\n",
       " target                   0\n",
       " Name: 21034, dtype: object,\n",
       " Growth +5         0.807052\n",
       " EV / Revenue      3.147987\n",
       " EV / EBIT        64.441404\n",
       " P/E             -52.194293\n",
       " P/S                1.37149\n",
       " P/CF              7.066733\n",
       " ticker                  25\n",
       " Date            2016/12/31\n",
       " target                   1\n",
       " Name: 27187, dtype: object,\n",
       " Growth +5        -0.899444\n",
       " EV / Revenue      2.695592\n",
       " EV / EBIT       -62.698526\n",
       " P/E                  -18.0\n",
       " P/S               1.704029\n",
       " P/CF              4.568742\n",
       " ticker                  12\n",
       " Date            2017/12/31\n",
       " target                   0\n",
       " Name: 12990, dtype: object,\n",
       " Growth +5        -0.716049\n",
       " EV / Revenue       1.68129\n",
       " EV / EBIT        -2.202979\n",
       " P/E              -1.741936\n",
       " P/S               1.430772\n",
       " P/CF             18.598669\n",
       " ticker                  26\n",
       " Date            2017/01/31\n",
       " target                   0\n",
       " Name: 27755, dtype: object,\n",
       " Growth +5        -0.824468\n",
       " EV / Revenue      0.893194\n",
       " EV / EBIT        -2.187936\n",
       " P/E              -2.065934\n",
       " P/S               0.941168\n",
       " P/CF             47.606554\n",
       " ticker                  26\n",
       " Date            2018/01/31\n",
       " target                   0\n",
       " Name: 27756, dtype: object,\n",
       " Growth +5          0.86185\n",
       " EV / Revenue      1.440781\n",
       " EV / EBIT        37.356616\n",
       " P/E              24.078513\n",
       " P/S               1.105976\n",
       " P/CF             12.178113\n",
       " ticker                  21\n",
       " Date            2017/09/30\n",
       " target                   1\n",
       " Name: 23288, dtype: object,\n",
       " Growth +5         1.443583\n",
       " EV / Revenue      2.073544\n",
       " EV / EBIT        25.992198\n",
       " P/E              24.282512\n",
       " P/S                1.75246\n",
       " P/CF             33.113686\n",
       " ticker                  31\n",
       " Date            2017/12/31\n",
       " target                   1\n",
       " Name: 31117, dtype: object,\n",
       " Growth +5        -0.817175\n",
       " EV / Revenue      1.923702\n",
       " EV / EBIT        -8.442829\n",
       " P/E              -7.934066\n",
       " P/S               1.875532\n",
       " P/CF            -38.231145\n",
       " ticker                  32\n",
       " Date            2017/12/31\n",
       " target                   0\n",
       " Name: 33031, dtype: object,\n",
       " Growth +5         0.489293\n",
       " EV / Revenue       1.04083\n",
       " EV / EBIT        32.044812\n",
       " P/E               7.615385\n",
       " P/S               0.738761\n",
       " P/CF             31.370385\n",
       " ticker                  13\n",
       " Date            2017/12/31\n",
       " target                   1\n",
       " Name: 13392, dtype: object,\n",
       " Growth +5        -0.135593\n",
       " EV / Revenue      7.313073\n",
       " EV / EBIT       -74.842942\n",
       " P/E             -52.194293\n",
       " P/S               4.717651\n",
       " P/CF            -38.231145\n",
       " ticker                  15\n",
       " Date            2017/03/31\n",
       " target                   0\n",
       " Name: 18172, dtype: object,\n",
       " Growth +5        -0.967117\n",
       " EV / Revenue       2.27012\n",
       " EV / EBIT        -2.000638\n",
       " P/E              -0.763674\n",
       " P/S               0.921443\n",
       " P/CF             -1.074997\n",
       " ticker                  34\n",
       " Date            2017/12/31\n",
       " target                   0\n",
       " Name: 35173, dtype: object,\n",
       " Growth +5        -0.789583\n",
       " EV / Revenue       1.75865\n",
       " EV / EBIT         6.490649\n",
       " P/E                7.02439\n",
       " P/S               2.252044\n",
       " P/CF              8.606918\n",
       " ticker                  38\n",
       " Date            2017/06/30\n",
       " target                   0\n",
       " Name: 38784, dtype: object,\n",
       " Growth +5          1.09143\n",
       " EV / Revenue      2.089759\n",
       " EV / EBIT         49.74237\n",
       " P/E              15.463054\n",
       " P/S                 0.9666\n",
       " P/CF             29.385457\n",
       " ticker                  41\n",
       " Date            2017/12/31\n",
       " target                   1\n",
       " Name: 40514, dtype: object,\n",
       " Growth +5              3.5\n",
       " EV / Revenue       31.2676\n",
       " EV / EBIT       -74.842942\n",
       " P/E             -52.194293\n",
       " P/S              27.130974\n",
       " P/CF            -38.231145\n",
       " ticker                  29\n",
       " Date            2017/04/30\n",
       " target                   1\n",
       " Name: 29628, dtype: object,\n",
       " Growth +5        -0.742574\n",
       " EV / Revenue      0.968182\n",
       " EV / EBIT        11.626411\n",
       " P/E              16.833333\n",
       " P/S               1.334985\n",
       " P/CF             25.967851\n",
       " ticker                  39\n",
       " Date            2017/12/31\n",
       " target                   0\n",
       " Name: 39510, dtype: object,\n",
       " Growth +5         3.801614\n",
       " EV / Revenue      2.889214\n",
       " EV / EBIT        50.979298\n",
       " P/E              81.139495\n",
       " P/S               3.344392\n",
       " P/CF            -21.469494\n",
       " ticker                  28\n",
       " Date            2017/01/31\n",
       " target                   1\n",
       " Name: 28729, dtype: object,\n",
       " Growth +5          0.84955\n",
       " EV / Revenue      4.406552\n",
       " EV / EBIT        24.706211\n",
       " P/E              22.872549\n",
       " P/S                4.93553\n",
       " P/CF             20.819927\n",
       " ticker                  28\n",
       " Date            2018/01/31\n",
       " target                   1\n",
       " Name: 28730, dtype: object,\n",
       " Growth +5        -0.300236\n",
       " EV / Revenue      0.658162\n",
       " EV / EBIT        24.420601\n",
       " P/E             -38.454546\n",
       " P/S               0.544832\n",
       " P/CF              8.224389\n",
       " ticker                  43\n",
       " Date            2017/12/31\n",
       " target                   0\n",
       " Name: 40830, dtype: object,\n",
       " Growth +5         2.166667\n",
       " EV / Revenue       31.2676\n",
       " EV / EBIT       -10.417183\n",
       " P/E              -0.429984\n",
       " P/S              27.130974\n",
       " P/CF             -1.810701\n",
       " ticker                  40\n",
       " Date            2017/12/31\n",
       " target                   1\n",
       " Name: 40078, dtype: object,\n",
       " Growth +5         0.313312\n",
       " EV / Revenue     14.504138\n",
       " EV / EBIT       -19.288521\n",
       " P/E              81.139495\n",
       " P/S              12.643215\n",
       " P/CF            -38.231145\n",
       " ticker                  36\n",
       " Date            2017/03/31\n",
       " target                   1\n",
       " Name: 36021, dtype: object,\n",
       " Growth +5         2.617284\n",
       " EV / Revenue      1.412337\n",
       " EV / EBIT       -21.158773\n",
       " P/E               4.673077\n",
       " P/S               2.025863\n",
       " P/CF             47.606554\n",
       " ticker                  23\n",
       " Date            2017/12/31\n",
       " target                   1\n",
       " Name: 26302, dtype: object,\n",
       " Growth +5         -0.68705\n",
       " EV / Revenue       3.51442\n",
       " EV / EBIT        30.886311\n",
       " P/E               7.547511\n",
       " P/S                0.59394\n",
       " P/CF              2.704126\n",
       " ticker                  22\n",
       " Date            2017/12/31\n",
       " target                   0\n",
       " Name: 26276, dtype: object,\n",
       " Growth +5        -0.258929\n",
       " EV / Revenue      1.597761\n",
       " EV / EBIT         -6.28496\n",
       " P/E              -0.982456\n",
       " P/S               0.434742\n",
       " P/CF             -1.960344\n",
       " ticker                  44\n",
       " Date            2017/12/31\n",
       " target                   0\n",
       " Name: 42781, dtype: object,\n",
       " Growth +5        -0.420044\n",
       " EV / Revenue      2.490216\n",
       " EV / EBIT         -65.6626\n",
       " P/E             -52.194293\n",
       " P/S               1.859192\n",
       " P/CF             16.321563\n",
       " ticker                  30\n",
       " Date            2017/12/31\n",
       " target                   0\n",
       " Name: 30524, dtype: object,\n",
       " Growth +5        -0.791463\n",
       " EV / Revenue       31.2676\n",
       " EV / EBIT        -1.372491\n",
       " P/E              -0.854167\n",
       " P/S              27.130974\n",
       " P/CF             -2.474452\n",
       " ticker                  24\n",
       " Date            2017/12/31\n",
       " target                   0\n",
       " Name: 26681, dtype: object,\n",
       " Growth +5         0.096398\n",
       " EV / Revenue       1.69784\n",
       " EV / EBIT        24.961235\n",
       " P/E              81.139495\n",
       " P/S               1.263652\n",
       " P/CF             16.498829\n",
       " ticker                  45\n",
       " Date            2017/12/31\n",
       " target                   1\n",
       " Name: 43877, dtype: object]"
      ]
     },
     "execution_count": 33,
     "metadata": {},
     "output_type": "execute_result"
    }
   ],
   "source": [
    "all_info_rows_test"
   ]
  },
  {
   "cell_type": "markdown",
   "metadata": {},
   "source": [
    "# Metrics"
   ]
  },
  {
   "cell_type": "code",
   "execution_count": 34,
   "metadata": {},
   "outputs": [],
   "source": [
    "def metrics_form(y_true, y_pred):    \n",
    "    # Calculate classification metrics\n",
    "    accuracy = accuracy_score(y_true, y_pred)\n",
    "    precision = precision_score(y_true, y_pred, average='macro')\n",
    "    recall = recall_score(y_true, y_pred, average='macro')\n",
    "    f1 = f1_score(y_true, y_pred, average='macro')\n",
    "    confusion = confusion_matrix(y_true, y_pred)\n",
    "\n",
    "    print(f'Accuracy: {accuracy:.4f}')\n",
    "    print(f'Precision: {precision:.4f}')\n",
    "    print(f'Recall: {recall:.4f}')\n",
    "    print(f'F1-score: {f1:.4f}')\n",
    "    print('Confusion Matrix:')\n",
    "    print(confusion)"
   ]
  },
  {
   "cell_type": "code",
   "execution_count": 35,
   "metadata": {},
   "outputs": [
    {
     "name": "stdout",
     "output_type": "stream",
     "text": [
      "Accuracy: 0.7250\n",
      "Precision: 0.7250\n",
      "Recall: 0.7256\n",
      "F1-score: 0.7248\n",
      "Confusion Matrix:\n",
      "[[15  6]\n",
      " [ 5 14]]\n"
     ]
    }
   ],
   "source": [
    "# Calculate classification metrics\n",
    "metrics_form(y_true, y_pred)"
   ]
  },
  {
   "cell_type": "code",
   "execution_count": 36,
   "metadata": {},
   "outputs": [
    {
     "name": "stdout",
     "output_type": "stream",
     "text": [
      "Accuracy: 0.7250\n",
      "Precision: 0.7560\n",
      "Recall: 0.7155\n",
      "F1-score: 0.7103\n",
      "Confusion Matrix:\n",
      "[[19  2]\n",
      " [ 9 10]]\n"
     ]
    }
   ],
   "source": [
    "# Calculate classification metrics\n",
    "metrics_form(y_true, y_pred_mod)"
   ]
  },
  {
   "cell_type": "code",
   "execution_count": 37,
   "metadata": {},
   "outputs": [
    {
     "data": {
      "text/plain": [
       "0.8333333333333334"
      ]
     },
     "execution_count": 37,
     "metadata": {},
     "output_type": "execute_result"
    }
   ],
   "source": [
    "# Calculate precision for class 1\n",
    "precision_class_1 = precision_score(y_true, y_pred_mod, labels=[1], average='macro')\n",
    "precision_class_1"
   ]
  },
  {
   "cell_type": "code",
   "execution_count": 38,
   "metadata": {},
   "outputs": [
    {
     "data": {
      "text/plain": [
       "0.5263157894736842"
      ]
     },
     "execution_count": 38,
     "metadata": {},
     "output_type": "execute_result"
    }
   ],
   "source": [
    "# Calculate precision for class 1\n",
    "recall_class_1 = recall_score(y_true, y_pred_mod, labels=[1], average='macro')\n",
    "recall_class_1"
   ]
  },
  {
   "cell_type": "code",
   "execution_count": 39,
   "metadata": {},
   "outputs": [
    {
     "data": {
      "text/html": [
       "<div>\n",
       "<style scoped>\n",
       "    .dataframe tbody tr th:only-of-type {\n",
       "        vertical-align: middle;\n",
       "    }\n",
       "\n",
       "    .dataframe tbody tr th {\n",
       "        vertical-align: top;\n",
       "    }\n",
       "\n",
       "    .dataframe thead th {\n",
       "        text-align: right;\n",
       "    }\n",
       "</style>\n",
       "<table border=\"1\" class=\"dataframe\">\n",
       "  <thead>\n",
       "    <tr style=\"text-align: right;\">\n",
       "      <th></th>\n",
       "      <th>Growth +5</th>\n",
       "      <th>EV / Revenue</th>\n",
       "      <th>EV / EBIT</th>\n",
       "      <th>P/E</th>\n",
       "      <th>P/S</th>\n",
       "      <th>P/CF</th>\n",
       "      <th>ticker</th>\n",
       "      <th>Date</th>\n",
       "      <th>target</th>\n",
       "    </tr>\n",
       "  </thead>\n",
       "  <tbody>\n",
       "    <tr>\n",
       "      <th>0</th>\n",
       "      <td>0.125869</td>\n",
       "      <td>1.224189</td>\n",
       "      <td>8.781134</td>\n",
       "      <td>10.911946</td>\n",
       "      <td>0.671856</td>\n",
       "      <td>5.895407</td>\n",
       "      <td>11</td>\n",
       "      <td>2017/12/31</td>\n",
       "      <td>1</td>\n",
       "    </tr>\n",
       "    <tr>\n",
       "      <th>1</th>\n",
       "      <td>5.353070</td>\n",
       "      <td>3.090306</td>\n",
       "      <td>-18.885432</td>\n",
       "      <td>81.139495</td>\n",
       "      <td>4.412454</td>\n",
       "      <td>-16.417479</td>\n",
       "      <td>7</td>\n",
       "      <td>2017/12/31</td>\n",
       "      <td>1</td>\n",
       "    </tr>\n",
       "    <tr>\n",
       "      <th>2</th>\n",
       "      <td>0.485423</td>\n",
       "      <td>2.589832</td>\n",
       "      <td>21.785420</td>\n",
       "      <td>23.175675</td>\n",
       "      <td>2.276219</td>\n",
       "      <td>18.653386</td>\n",
       "      <td>10</td>\n",
       "      <td>2017/06/30</td>\n",
       "      <td>1</td>\n",
       "    </tr>\n",
       "    <tr>\n",
       "      <th>3</th>\n",
       "      <td>-0.028941</td>\n",
       "      <td>1.515889</td>\n",
       "      <td>27.040709</td>\n",
       "      <td>39.489797</td>\n",
       "      <td>1.412994</td>\n",
       "      <td>-22.235675</td>\n",
       "      <td>2</td>\n",
       "      <td>2017/12/31</td>\n",
       "      <td>0</td>\n",
       "    </tr>\n",
       "    <tr>\n",
       "      <th>4</th>\n",
       "      <td>5.185714</td>\n",
       "      <td>27.277606</td>\n",
       "      <td>-4.157738</td>\n",
       "      <td>-2.800000</td>\n",
       "      <td>27.130974</td>\n",
       "      <td>-5.491502</td>\n",
       "      <td>6</td>\n",
       "      <td>2017/11/30</td>\n",
       "      <td>1</td>\n",
       "    </tr>\n",
       "    <tr>\n",
       "      <th>5</th>\n",
       "      <td>0.888024</td>\n",
       "      <td>0.823590</td>\n",
       "      <td>16.925804</td>\n",
       "      <td>14.778762</td>\n",
       "      <td>0.447124</td>\n",
       "      <td>-35.523653</td>\n",
       "      <td>8</td>\n",
       "      <td>2017/12/31</td>\n",
       "      <td>1</td>\n",
       "    </tr>\n",
       "    <tr>\n",
       "      <th>6</th>\n",
       "      <td>-0.662735</td>\n",
       "      <td>2.141253</td>\n",
       "      <td>26.751011</td>\n",
       "      <td>81.139495</td>\n",
       "      <td>1.149023</td>\n",
       "      <td>8.492829</td>\n",
       "      <td>16</td>\n",
       "      <td>2017/12/31</td>\n",
       "      <td>0</td>\n",
       "    </tr>\n",
       "    <tr>\n",
       "      <th>7</th>\n",
       "      <td>0.861850</td>\n",
       "      <td>1.440781</td>\n",
       "      <td>37.356616</td>\n",
       "      <td>24.078513</td>\n",
       "      <td>1.105976</td>\n",
       "      <td>12.178113</td>\n",
       "      <td>21</td>\n",
       "      <td>2017/09/30</td>\n",
       "      <td>1</td>\n",
       "    </tr>\n",
       "    <tr>\n",
       "      <th>8</th>\n",
       "      <td>3.801614</td>\n",
       "      <td>2.889214</td>\n",
       "      <td>50.979298</td>\n",
       "      <td>81.139495</td>\n",
       "      <td>3.344392</td>\n",
       "      <td>-21.469494</td>\n",
       "      <td>28</td>\n",
       "      <td>2017/01/31</td>\n",
       "      <td>1</td>\n",
       "    </tr>\n",
       "    <tr>\n",
       "      <th>9</th>\n",
       "      <td>2.166667</td>\n",
       "      <td>31.267600</td>\n",
       "      <td>-10.417183</td>\n",
       "      <td>-0.429984</td>\n",
       "      <td>27.130974</td>\n",
       "      <td>-1.810701</td>\n",
       "      <td>40</td>\n",
       "      <td>2017/12/31</td>\n",
       "      <td>1</td>\n",
       "    </tr>\n",
       "    <tr>\n",
       "      <th>10</th>\n",
       "      <td>0.313312</td>\n",
       "      <td>14.504138</td>\n",
       "      <td>-19.288521</td>\n",
       "      <td>81.139495</td>\n",
       "      <td>12.643215</td>\n",
       "      <td>-38.231145</td>\n",
       "      <td>36</td>\n",
       "      <td>2017/03/31</td>\n",
       "      <td>1</td>\n",
       "    </tr>\n",
       "    <tr>\n",
       "      <th>11</th>\n",
       "      <td>0.096398</td>\n",
       "      <td>1.697840</td>\n",
       "      <td>24.961235</td>\n",
       "      <td>81.139495</td>\n",
       "      <td>1.263652</td>\n",
       "      <td>16.498829</td>\n",
       "      <td>45</td>\n",
       "      <td>2017/12/31</td>\n",
       "      <td>1</td>\n",
       "    </tr>\n",
       "  </tbody>\n",
       "</table>\n",
       "</div>"
      ],
      "text/plain": [
       "    Growth +5  EV / Revenue  EV / EBIT        P/E        P/S       P/CF  \\\n",
       "0    0.125869      1.224189   8.781134  10.911946   0.671856   5.895407   \n",
       "1    5.353070      3.090306 -18.885432  81.139495   4.412454 -16.417479   \n",
       "2    0.485423      2.589832  21.785420  23.175675   2.276219  18.653386   \n",
       "3   -0.028941      1.515889  27.040709  39.489797   1.412994 -22.235675   \n",
       "4    5.185714     27.277606  -4.157738  -2.800000  27.130974  -5.491502   \n",
       "5    0.888024      0.823590  16.925804  14.778762   0.447124 -35.523653   \n",
       "6   -0.662735      2.141253  26.751011  81.139495   1.149023   8.492829   \n",
       "7    0.861850      1.440781  37.356616  24.078513   1.105976  12.178113   \n",
       "8    3.801614      2.889214  50.979298  81.139495   3.344392 -21.469494   \n",
       "9    2.166667     31.267600 -10.417183  -0.429984  27.130974  -1.810701   \n",
       "10   0.313312     14.504138 -19.288521  81.139495  12.643215 -38.231145   \n",
       "11   0.096398      1.697840  24.961235  81.139495   1.263652  16.498829   \n",
       "\n",
       "    ticker        Date  target  \n",
       "0       11  2017/12/31       1  \n",
       "1        7  2017/12/31       1  \n",
       "2       10  2017/06/30       1  \n",
       "3        2  2017/12/31       0  \n",
       "4        6  2017/11/30       1  \n",
       "5        8  2017/12/31       1  \n",
       "6       16  2017/12/31       0  \n",
       "7       21  2017/09/30       1  \n",
       "8       28  2017/01/31       1  \n",
       "9       40  2017/12/31       1  \n",
       "10      36  2017/03/31       1  \n",
       "11      45  2017/12/31       1  "
      ]
     },
     "execution_count": 39,
     "metadata": {},
     "output_type": "execute_result"
    }
   ],
   "source": [
    "# Use list comprehension to select items\n",
    "class_one_predited_info = [item for item, select in zip(test_all_info, y_pred_mod==1) if select]\n",
    "\n",
    "growth_list = []\n",
    "\n",
    "for info in class_one_predited_info:\n",
    "    growth_list.append(info.to_list())\n",
    "\n",
    "test_info_df =  pd.DataFrame(growth_list, columns=info.index)\n",
    "test_info_df"
   ]
  },
  {
   "cell_type": "code",
   "execution_count": 40,
   "metadata": {},
   "outputs": [
    {
     "data": {
      "text/plain": [
       "1200"
      ]
     },
     "execution_count": 40,
     "metadata": {},
     "output_type": "execute_result"
    }
   ],
   "source": [
    "len(test_info_df) * 100"
   ]
  }
 ],
 "metadata": {
  "kernelspec": {
   "display_name": "Python 3",
   "language": "python",
   "name": "python3"
  },
  "language_info": {
   "codemirror_mode": {
    "name": "ipython",
    "version": 3
   },
   "file_extension": ".py",
   "mimetype": "text/x-python",
   "name": "python",
   "nbconvert_exporter": "python",
   "pygments_lexer": "ipython3",
   "version": "3.9.7"
  },
  "orig_nbformat": 4
 },
 "nbformat": 4,
 "nbformat_minor": 2
}
